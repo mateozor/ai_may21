{
 "cells": [
  {
   "cell_type": "markdown",
   "source": [
    "\n",
    "# Imports"
   ],
   "metadata": {}
  },
  {
   "cell_type": "code",
   "execution_count": 2,
   "source": [
    "########################## EDA\r\n",
    "\r\n",
    "import pandas as pd\r\n",
    "import seaborn as sb\r\n",
    "import matplotlib.pyplot as plt\r\n",
    "#from wordcloud import WordCloud\r\n",
    "\r\n",
    "########################## Preprecessing\r\n",
    "import spacy\r\n",
    "import time\r\n",
    "from tqdm import tqdm_notebook as tqdm\r\n",
    "from sklearn.feature_extraction.text import CountVectorizer\r\n",
    "from sklearn.feature_extraction.text import TfidfVectorizer\r\n",
    "\r\n",
    "########################## Machine Learning\r\n",
    "from sklearn.linear_model import LogisticRegression\r\n",
    "from sklearn.naive_bayes  import MultinomialNB\r\n",
    "from sklearn.naive_bayes  import BernoulliNB\r\n",
    "from sklearn.ensemble     import RandomForestClassifier\r\n",
    "from xgboost              import XGBClassifier\r\n",
    "\r\n",
    "########################## Machine Learning Evaluation\r\n",
    "from sklearn.metrics         import accuracy_score, f1_score\r\n",
    "from sklearn.model_selection import train_test_split, StratifiedKFold, cross_val_score\r\n",
    "\r\n",
    "\r\n",
    "pd.set_option('max_colwidth', None)"
   ],
   "outputs": [],
   "metadata": {}
  },
  {
   "cell_type": "code",
   "execution_count": 3,
   "source": [
    "!pip install xgboost"
   ],
   "outputs": [
    {
     "output_type": "stream",
     "name": "stdout",
     "text": [
      "Requirement already satisfied: xgboost in c:\\users\\matzo\\appdata\\local\\programs\\python\\python39\\lib\\site-packages (1.4.2)\n",
      "Requirement already satisfied: numpy in c:\\users\\matzo\\appdata\\local\\programs\\python\\python39\\lib\\site-packages (from xgboost) (1.21.0)\n",
      "Requirement already satisfied: scipy in c:\\users\\matzo\\appdata\\local\\programs\\python\\python39\\lib\\site-packages (from xgboost) (1.7.0)\n"
     ]
    }
   ],
   "metadata": {}
  },
  {
   "cell_type": "markdown",
   "source": [
    "# Read data"
   ],
   "metadata": {}
  },
  {
   "cell_type": "code",
   "execution_count": 4,
   "source": [
    "df = pd.read_csv(\"imdb.csv\")\r\n",
    "\r\n",
    "df_train = df.sample(frac = 0.8)\r\n",
    "  \r\n",
    "df_valid = df.drop(df_train.index)\r\n",
    "\r\n",
    "print(\"Number of documents in training data: %d\" % len(df_train))\r\n",
    "print(\"Number of documents in validation data: %d\" % len(df_valid))"
   ],
   "outputs": [
    {
     "output_type": "stream",
     "name": "stdout",
     "text": [
      "Number of documents in training data: 20000\n",
      "Number of documents in validation data: 5000\n"
     ]
    }
   ],
   "metadata": {}
  },
  {
   "cell_type": "markdown",
   "source": [
    "# EDA\n",
    "### Target"
   ],
   "metadata": {}
  },
  {
   "cell_type": "code",
   "execution_count": 5,
   "source": [
    "sb.countplot(df_train['sentiment'])"
   ],
   "outputs": [
    {
     "output_type": "stream",
     "name": "stderr",
     "text": [
      "C:\\Users\\Matzo\\AppData\\Local\\Programs\\Python\\Python39\\lib\\site-packages\\seaborn\\_decorators.py:36: FutureWarning: Pass the following variable as a keyword arg: x. From version 0.12, the only valid positional argument will be `data`, and passing other arguments without an explicit keyword will result in an error or misinterpretation.\n",
      "  warnings.warn(\n"
     ]
    },
    {
     "output_type": "execute_result",
     "data": {
      "text/plain": [
       "<AxesSubplot:xlabel='sentiment', ylabel='count'>"
      ]
     },
     "metadata": {},
     "execution_count": 5
    },
    {
     "output_type": "display_data",
     "data": {
      "text/plain": [
       "<Figure size 432x288 with 1 Axes>"
      ],
      "image/png": "[encoded data removed]"
     },
     "metadata": {
      "needs_background": "light"
     }
    }
   ],
   "metadata": {}
  },
  {
   "cell_type": "markdown",
   "source": [
    "### Text"
   ],
   "metadata": {}
  },
  {
   "cell_type": "code",
   "execution_count": 6,
   "source": [
    "positive = df[df['sentiment']==0]['review']\r\n",
    "negative = df[df['sentiment']==1]['review']"
   ],
   "outputs": [],
   "metadata": {}
  },
  {
   "cell_type": "code",
   "execution_count": 7,
   "source": [
    "%%time\r\n",
    "fig, (ax1, ax2) = plt.subplots(1, 2, figsize=[26, 8])\r\n",
    "\r\n",
    "wordcloud1 = WordCloud( background_color='white',\r\n",
    "                        width=600,\r\n",
    "                        height=400).generate(\" \".join(positive))\r\n",
    "ax1.imshow(wordcloud1)\r\n",
    "ax1.axis('off')\r\n",
    "ax1.set_title('Positive', fontsize=40);\r\n",
    "\r\n",
    "wordcloud2 = WordCloud( background_color='white',\r\n",
    "                        width=600,\r\n",
    "                        height=400).generate(\" \".join(negative))\r\n",
    "ax2.imshow(wordcloud2)\r\n",
    "ax2.axis('off')\r\n",
    "ax2.set_title('Negative',fontsize=40);"
   ],
   "outputs": [
    {
     "output_type": "error",
     "ename": "NameError",
     "evalue": "name 'WordCloud' is not defined",
     "traceback": [
      "\u001b[1;31m---------------------------------------------------------------------------\u001b[0m",
      "\u001b[1;31mNameError\u001b[0m                                 Traceback (most recent call last)",
      "\u001b[1;32m<timed exec>\u001b[0m in \u001b[0;36m<module>\u001b[1;34m\u001b[0m\n",
      "\u001b[1;31mNameError\u001b[0m: name 'WordCloud' is not defined"
     ]
    },
    {
     "output_type": "display_data",
     "data": {
      "text/plain": [
       "<Figure size 1872x576 with 2 Axes>"
      ],
      "image/png": "[encoded data removed]"
     },
     "metadata": {
      "needs_background": "light"
     }
    }
   ],
   "metadata": {}
  },
  {
   "cell_type": "markdown",
   "source": [
    "# NLP Preprocessing"
   ],
   "metadata": {}
  },
  {
   "cell_type": "markdown",
   "source": [
    "Before we start with any NLP project we need to pre-process the data to get it all in a consistent format.We need to clean, tokenize and convert our data into a matrix. Some of the basic text pre-processing techniques includes:\n",
    "\n",
    "- Make text all **lower case** or **upper case** so that the algorithm does not treat the same words in different cases as different\n",
    "- **Removing Noise** i.e everything that isn’t in a standard number or letter i.e Punctuation, Numerical values, common non-sensical text (/n)\n",
    "- **Tokenization**: Tokenization is just the term used to describe the process of converting the normal text strings into a list of tokens i.e words that we actually want. Sentence tokenizer can be used to find the list of sentences and Word tokenizer can be used to find the list of words in strings.\n",
    "- **Stopword Removal**: Sometimes, some extremely common words which would appear to be of little value in helping select documents matching a user need are excluded from the vocabulary entirely. These words are called stop words\n",
    "\n",
    "### More data cleaning steps after tokenization:\n",
    "- **Stemming**: Stemming is the process of reducing inflected (or sometimes derived) words to their stem, base or root form — generally a written word form. Example if we were to stem the following words: “Stems”, “Stemming”, “Stemmed”, “and Stemtization”, the result would be a single word “stem”.\n",
    "- **Lemmatization**: A slight variant of stemming is lemmatization. The major difference between these is, that, stemming can often create non-existent words, whereas lemmas are actual words. So, your root stem, meaning the word you end up with, is not something you can just look up in a dictionary, but you can look up a lemma. Examples of Lemmatization are that “run” is a base form for words like “running” or “ran” or that the word “better” and “good” are in the same lemma so they are considered the same.\n",
    "- **Parts of speech** tagging\n",
    "- Create **bi-grams** or tri-grams And more...\n",
    "\n",
    "However, it is not necessary that you would need to use all these steps. The usage depends on your problem at hand. Sometimes removal of stop words helps while at other times, this might not help.Here is a nice table taken from the blog titled: [All you need to know about Text Preprocessing for Machine Learning & NLP](https://kavita-ganesan.com/text-preprocessing-tutorial) that summarizes how much preprocessing you should be performing on your text data:"
   ],
   "metadata": {}
  },
  {
   "cell_type": "markdown",
   "source": [
    "# <center> Toy Example"
   ],
   "metadata": {}
  },
  {
   "cell_type": "code",
   "execution_count": 8,
   "source": [
    "texts = [\r\n",
    "    'Hello this is an sentence',\r\n",
    "    'Hello this is another sentence',\r\n",
    "    'Hello Hello Hello, this is mellow'\r\n",
    "]\r\n",
    "Tfid = TfidfVectorizer(use_idf=False)\r\n",
    "texts_tfid = Tfid.fit_transform(texts)\r\n",
    "tokens = Tfid.get_feature_names()\r\n",
    "tfids = pd.DataFrame(data = texts_tfid.toarray(), columns = tokens)\r\n",
    "tfids"
   ],
   "outputs": [
    {
     "output_type": "execute_result",
     "data": {
      "text/plain": [
       "         an   another     hello        is    mellow  sentence      this\n",
       "0  0.447214  0.000000  0.447214  0.447214  0.000000  0.447214  0.447214\n",
       "1  0.000000  0.447214  0.447214  0.447214  0.000000  0.447214  0.447214\n",
       "2  0.000000  0.000000  0.866025  0.288675  0.288675  0.000000  0.288675"
      ],
      "text/html": [
       "<div>\n",
       "<style scoped>\n",
       "    .dataframe tbody tr th:only-of-type {\n",
       "        vertical-align: middle;\n",
       "    }\n",
       "\n",
       "    .dataframe tbody tr th {\n",
       "        vertical-align: top;\n",
       "    }\n",
       "\n",
       "    .dataframe thead th {\n",
       "        text-align: right;\n",
       "    }\n",
       "</style>\n",
       "<table border=\"1\" class=\"dataframe\">\n",
       "  <thead>\n",
       "    <tr style=\"text-align: right;\">\n",
       "      <th></th>\n",
       "      <th>an</th>\n",
       "      <th>another</th>\n",
       "      <th>hello</th>\n",
       "      <th>is</th>\n",
       "      <th>mellow</th>\n",
       "      <th>sentence</th>\n",
       "      <th>this</th>\n",
       "    </tr>\n",
       "  </thead>\n",
       "  <tbody>\n",
       "    <tr>\n",
       "      <th>0</th>\n",
       "      <td>0.447214</td>\n",
       "      <td>0.000000</td>\n",
       "      <td>0.447214</td>\n",
       "      <td>0.447214</td>\n",
       "      <td>0.000000</td>\n",
       "      <td>0.447214</td>\n",
       "      <td>0.447214</td>\n",
       "    </tr>\n",
       "    <tr>\n",
       "      <th>1</th>\n",
       "      <td>0.000000</td>\n",
       "      <td>0.447214</td>\n",
       "      <td>0.447214</td>\n",
       "      <td>0.447214</td>\n",
       "      <td>0.000000</td>\n",
       "      <td>0.447214</td>\n",
       "      <td>0.447214</td>\n",
       "    </tr>\n",
       "    <tr>\n",
       "      <th>2</th>\n",
       "      <td>0.000000</td>\n",
       "      <td>0.000000</td>\n",
       "      <td>0.866025</td>\n",
       "      <td>0.288675</td>\n",
       "      <td>0.288675</td>\n",
       "      <td>0.000000</td>\n",
       "      <td>0.288675</td>\n",
       "    </tr>\n",
       "  </tbody>\n",
       "</table>\n",
       "</div>"
      ]
     },
     "metadata": {},
     "execution_count": 8
    }
   ],
   "metadata": {}
  },
  {
   "cell_type": "markdown",
   "source": [
    "### Bag Of Words (BOW)"
   ],
   "metadata": {}
  },
  {
   "cell_type": "code",
   "execution_count": 9,
   "source": [
    "# create a CountVectorizer instance\r\n",
    "# fit tranform the text with it\r\n",
    "# get the features+\r\n",
    "\r\n",
    "bow = CountVectorizer()\r\n",
    "texts_bow = bow.fit_transform(texts)\r\n",
    "tokens = bow.get_feature_names()\r\n",
    "bow = pd.DataFrame(data=texts_bow.toarray(), index=['Text 1', 'Text 2', \"Text 3\"], columns=tokens)\r\n",
    "bow"
   ],
   "outputs": [
    {
     "output_type": "execute_result",
     "data": {
      "text/plain": [
       "        an  another  hello  is  mellow  sentence  this\n",
       "Text 1   1        0      1   1       0         1     1\n",
       "Text 2   0        1      1   1       0         1     1\n",
       "Text 3   0        0      3   1       1         0     1"
      ],
      "text/html": [
       "<div>\n",
       "<style scoped>\n",
       "    .dataframe tbody tr th:only-of-type {\n",
       "        vertical-align: middle;\n",
       "    }\n",
       "\n",
       "    .dataframe tbody tr th {\n",
       "        vertical-align: top;\n",
       "    }\n",
       "\n",
       "    .dataframe thead th {\n",
       "        text-align: right;\n",
       "    }\n",
       "</style>\n",
       "<table border=\"1\" class=\"dataframe\">\n",
       "  <thead>\n",
       "    <tr style=\"text-align: right;\">\n",
       "      <th></th>\n",
       "      <th>an</th>\n",
       "      <th>another</th>\n",
       "      <th>hello</th>\n",
       "      <th>is</th>\n",
       "      <th>mellow</th>\n",
       "      <th>sentence</th>\n",
       "      <th>this</th>\n",
       "    </tr>\n",
       "  </thead>\n",
       "  <tbody>\n",
       "    <tr>\n",
       "      <th>Text 1</th>\n",
       "      <td>1</td>\n",
       "      <td>0</td>\n",
       "      <td>1</td>\n",
       "      <td>1</td>\n",
       "      <td>0</td>\n",
       "      <td>1</td>\n",
       "      <td>1</td>\n",
       "    </tr>\n",
       "    <tr>\n",
       "      <th>Text 2</th>\n",
       "      <td>0</td>\n",
       "      <td>1</td>\n",
       "      <td>1</td>\n",
       "      <td>1</td>\n",
       "      <td>0</td>\n",
       "      <td>1</td>\n",
       "      <td>1</td>\n",
       "    </tr>\n",
       "    <tr>\n",
       "      <th>Text 3</th>\n",
       "      <td>0</td>\n",
       "      <td>0</td>\n",
       "      <td>3</td>\n",
       "      <td>1</td>\n",
       "      <td>1</td>\n",
       "      <td>0</td>\n",
       "      <td>1</td>\n",
       "    </tr>\n",
       "  </tbody>\n",
       "</table>\n",
       "</div>"
      ]
     },
     "metadata": {},
     "execution_count": 9
    }
   ],
   "metadata": {}
  },
  {
   "cell_type": "markdown",
   "source": [
    "### Bag Of Words (BOW) + ngram"
   ],
   "metadata": {}
  },
  {
   "cell_type": "code",
   "execution_count": 10,
   "source": [
    "#do the same approach but using a range in the count vectorizer\r\n",
    "bow = CountVectorizer(ngram_range=(1,2))\r\n",
    "texts_bow = bow.fit_transform(texts)\r\n",
    "tokens = bow.get_feature_names()\r\n",
    "pd.DataFrame(data=texts_bow.toarray(), index=['Text 1', 'Text 2', \"Text 3\"], columns=tokens)"
   ],
   "outputs": [
    {
     "output_type": "execute_result",
     "data": {
      "text/plain": [
       "        an  an sentence  another  another sentence  hello  hello hello  \\\n",
       "Text 1   1            1        0                 0      1            0   \n",
       "Text 2   0            0        1                 1      1            0   \n",
       "Text 3   0            0        0                 0      3            2   \n",
       "\n",
       "        hello this  is  is an  is another  is mellow  mellow  sentence  this  \\\n",
       "Text 1           1   1      1           0          0       0         1     1   \n",
       "Text 2           1   1      0           1          0       0         1     1   \n",
       "Text 3           1   1      0           0          1       1         0     1   \n",
       "\n",
       "        this is  \n",
       "Text 1        1  \n",
       "Text 2        1  \n",
       "Text 3        1  "
      ],
      "text/html": [
       "<div>\n",
       "<style scoped>\n",
       "    .dataframe tbody tr th:only-of-type {\n",
       "        vertical-align: middle;\n",
       "    }\n",
       "\n",
       "    .dataframe tbody tr th {\n",
       "        vertical-align: top;\n",
       "    }\n",
       "\n",
       "    .dataframe thead th {\n",
       "        text-align: right;\n",
       "    }\n",
       "</style>\n",
       "<table border=\"1\" class=\"dataframe\">\n",
       "  <thead>\n",
       "    <tr style=\"text-align: right;\">\n",
       "      <th></th>\n",
       "      <th>an</th>\n",
       "      <th>an sentence</th>\n",
       "      <th>another</th>\n",
       "      <th>another sentence</th>\n",
       "      <th>hello</th>\n",
       "      <th>hello hello</th>\n",
       "      <th>hello this</th>\n",
       "      <th>is</th>\n",
       "      <th>is an</th>\n",
       "      <th>is another</th>\n",
       "      <th>is mellow</th>\n",
       "      <th>mellow</th>\n",
       "      <th>sentence</th>\n",
       "      <th>this</th>\n",
       "      <th>this is</th>\n",
       "    </tr>\n",
       "  </thead>\n",
       "  <tbody>\n",
       "    <tr>\n",
       "      <th>Text 1</th>\n",
       "      <td>1</td>\n",
       "      <td>1</td>\n",
       "      <td>0</td>\n",
       "      <td>0</td>\n",
       "      <td>1</td>\n",
       "      <td>0</td>\n",
       "      <td>1</td>\n",
       "      <td>1</td>\n",
       "      <td>1</td>\n",
       "      <td>0</td>\n",
       "      <td>0</td>\n",
       "      <td>0</td>\n",
       "      <td>1</td>\n",
       "      <td>1</td>\n",
       "      <td>1</td>\n",
       "    </tr>\n",
       "    <tr>\n",
       "      <th>Text 2</th>\n",
       "      <td>0</td>\n",
       "      <td>0</td>\n",
       "      <td>1</td>\n",
       "      <td>1</td>\n",
       "      <td>1</td>\n",
       "      <td>0</td>\n",
       "      <td>1</td>\n",
       "      <td>1</td>\n",
       "      <td>0</td>\n",
       "      <td>1</td>\n",
       "      <td>0</td>\n",
       "      <td>0</td>\n",
       "      <td>1</td>\n",
       "      <td>1</td>\n",
       "      <td>1</td>\n",
       "    </tr>\n",
       "    <tr>\n",
       "      <th>Text 3</th>\n",
       "      <td>0</td>\n",
       "      <td>0</td>\n",
       "      <td>0</td>\n",
       "      <td>0</td>\n",
       "      <td>3</td>\n",
       "      <td>2</td>\n",
       "      <td>1</td>\n",
       "      <td>1</td>\n",
       "      <td>0</td>\n",
       "      <td>0</td>\n",
       "      <td>1</td>\n",
       "      <td>1</td>\n",
       "      <td>0</td>\n",
       "      <td>1</td>\n",
       "      <td>1</td>\n",
       "    </tr>\n",
       "  </tbody>\n",
       "</table>\n",
       "</div>"
      ]
     },
     "metadata": {},
     "execution_count": 10
    }
   ],
   "metadata": {}
  },
  {
   "cell_type": "markdown",
   "source": [
    "### TFIDF\n",
    "A problem with the Bag of Words approach is that highly frequent words start to dominate in the document (e.g. larger score), but may not contain as much “informational content”. Also, it will give more weight to longer documents than shorter documents.\n",
    "\n",
    "One approach is to rescale the frequency of words by how often they appear in all documents so that the scores for frequent words like “the” that are also frequent across all documents are penalized. This approach to scoring is called Term Frequency-Inverse Document Frequency, or TF-IDF for short, where:\n",
    "\n",
    "- **Term Frequency**: is a scoring of the frequency of the word in the current document.\n",
    "- **Inverse Document Frequency**: is a scoring of how rare the word is across documents."
   ],
   "metadata": {}
  },
  {
   "cell_type": "code",
   "execution_count": 11,
   "source": [
    "#Same approach for the TfidfVectorizer\r\n",
    "tfid = TfidfVectorizer(ngram_range=(1,2))\r\n",
    "texts_tfidf = tfid.fit_transform(texts)\r\n",
    "tokens = tfid.get_feature_names()\r\n",
    "pd.DataFrame(data=texts_tfidf.toarray(), index=['Text 1', 'Text 2', \"Text 3\"], columns=tokens)"
   ],
   "outputs": [
    {
     "output_type": "execute_result",
     "data": {
      "text/plain": [
       "              an  an sentence   another  another sentence     hello  \\\n",
       "Text 1  0.433452     0.433452  0.000000          0.000000  0.256004   \n",
       "Text 2  0.000000     0.000000  0.433452          0.433452  0.256004   \n",
       "Text 3  0.000000     0.000000  0.000000          0.000000  0.545902   \n",
       "\n",
       "        hello hello  hello this        is     is an  is another  is mellow  \\\n",
       "Text 1     0.000000    0.256004  0.256004  0.433452    0.000000   0.000000   \n",
       "Text 2     0.000000    0.256004  0.256004  0.000000    0.433452   0.000000   \n",
       "Text 3     0.616194    0.181967  0.181967  0.000000    0.000000   0.308097   \n",
       "\n",
       "          mellow  sentence      this   this is  \n",
       "Text 1  0.000000  0.329651  0.256004  0.256004  \n",
       "Text 2  0.000000  0.329651  0.256004  0.256004  \n",
       "Text 3  0.308097  0.000000  0.181967  0.181967  "
      ],
      "text/html": [
       "<div>\n",
       "<style scoped>\n",
       "    .dataframe tbody tr th:only-of-type {\n",
       "        vertical-align: middle;\n",
       "    }\n",
       "\n",
       "    .dataframe tbody tr th {\n",
       "        vertical-align: top;\n",
       "    }\n",
       "\n",
       "    .dataframe thead th {\n",
       "        text-align: right;\n",
       "    }\n",
       "</style>\n",
       "<table border=\"1\" class=\"dataframe\">\n",
       "  <thead>\n",
       "    <tr style=\"text-align: right;\">\n",
       "      <th></th>\n",
       "      <th>an</th>\n",
       "      <th>an sentence</th>\n",
       "      <th>another</th>\n",
       "      <th>another sentence</th>\n",
       "      <th>hello</th>\n",
       "      <th>hello hello</th>\n",
       "      <th>hello this</th>\n",
       "      <th>is</th>\n",
       "      <th>is an</th>\n",
       "      <th>is another</th>\n",
       "      <th>is mellow</th>\n",
       "      <th>mellow</th>\n",
       "      <th>sentence</th>\n",
       "      <th>this</th>\n",
       "      <th>this is</th>\n",
       "    </tr>\n",
       "  </thead>\n",
       "  <tbody>\n",
       "    <tr>\n",
       "      <th>Text 1</th>\n",
       "      <td>0.433452</td>\n",
       "      <td>0.433452</td>\n",
       "      <td>0.000000</td>\n",
       "      <td>0.000000</td>\n",
       "      <td>0.256004</td>\n",
       "      <td>0.000000</td>\n",
       "      <td>0.256004</td>\n",
       "      <td>0.256004</td>\n",
       "      <td>0.433452</td>\n",
       "      <td>0.000000</td>\n",
       "      <td>0.000000</td>\n",
       "      <td>0.000000</td>\n",
       "      <td>0.329651</td>\n",
       "      <td>0.256004</td>\n",
       "      <td>0.256004</td>\n",
       "    </tr>\n",
       "    <tr>\n",
       "      <th>Text 2</th>\n",
       "      <td>0.000000</td>\n",
       "      <td>0.000000</td>\n",
       "      <td>0.433452</td>\n",
       "      <td>0.433452</td>\n",
       "      <td>0.256004</td>\n",
       "      <td>0.000000</td>\n",
       "      <td>0.256004</td>\n",
       "      <td>0.256004</td>\n",
       "      <td>0.000000</td>\n",
       "      <td>0.433452</td>\n",
       "      <td>0.000000</td>\n",
       "      <td>0.000000</td>\n",
       "      <td>0.329651</td>\n",
       "      <td>0.256004</td>\n",
       "      <td>0.256004</td>\n",
       "    </tr>\n",
       "    <tr>\n",
       "      <th>Text 3</th>\n",
       "      <td>0.000000</td>\n",
       "      <td>0.000000</td>\n",
       "      <td>0.000000</td>\n",
       "      <td>0.000000</td>\n",
       "      <td>0.545902</td>\n",
       "      <td>0.616194</td>\n",
       "      <td>0.181967</td>\n",
       "      <td>0.181967</td>\n",
       "      <td>0.000000</td>\n",
       "      <td>0.000000</td>\n",
       "      <td>0.308097</td>\n",
       "      <td>0.308097</td>\n",
       "      <td>0.000000</td>\n",
       "      <td>0.181967</td>\n",
       "      <td>0.181967</td>\n",
       "    </tr>\n",
       "  </tbody>\n",
       "</table>\n",
       "</div>"
      ]
     },
     "metadata": {},
     "execution_count": 11
    }
   ],
   "metadata": {}
  },
  {
   "cell_type": "markdown",
   "source": [
    "# <center> Apply to the reviews"
   ],
   "metadata": {}
  },
  {
   "cell_type": "markdown",
   "source": [
    "### Bag Of Words 1-gram"
   ],
   "metadata": {}
  },
  {
   "cell_type": "code",
   "execution_count": 12,
   "source": [
    "%%time\r\n",
    "bow_1gram = CountVectorizer()\r\n",
    "\r\n",
    "train_bow_1gram = bow_1gram.fit_transform(df_train['review'])\r\n",
    "valid_bow_1gram = bow_1gram.transform(df_valid['review'])\r\n"
   ],
   "outputs": [
    {
     "output_type": "stream",
     "name": "stdout",
     "text": [
      "Wall time: 4.44 s\n"
     ]
    }
   ],
   "metadata": {}
  },
  {
   "cell_type": "markdown",
   "source": [
    "### Bag Of Words 1-2-grams"
   ],
   "metadata": {}
  },
  {
   "cell_type": "code",
   "execution_count": 15,
   "source": [
    "%%time\r\n",
    "bow_2grams = CountVectorizer(ngram_range=(1,2))\r\n",
    "train_bow_2grams = bow_2grams.fit_transform(df_train['review'])\r\n",
    "valid_bow_2grams = bow_2grams.transform(df_valid['review'])"
   ],
   "outputs": [
    {
     "output_type": "stream",
     "name": "stdout",
     "text": [
      "Wall time: 15.3 s\n"
     ]
    }
   ],
   "metadata": {}
  },
  {
   "cell_type": "markdown",
   "source": [
    "### TFIDF 1-gram"
   ],
   "metadata": {}
  },
  {
   "cell_type": "code",
   "execution_count": 16,
   "source": [
    "%%time\r\n",
    "tfidf_1gram       = TfidfVectorizer()\r\n",
    "train_tfidf_1gram = tfidf_1gram.fit_transform(df_train['review'])\r\n",
    "valid_tfidf_1gram = tfidf_1gram.transform(df_valid['review'])"
   ],
   "outputs": [
    {
     "output_type": "stream",
     "name": "stdout",
     "text": [
      "Wall time: 4.62 s\n"
     ]
    }
   ],
   "metadata": {}
  },
  {
   "cell_type": "markdown",
   "source": [
    "### TFIDF 1-2-grams"
   ],
   "metadata": {}
  },
  {
   "cell_type": "code",
   "execution_count": 17,
   "source": [
    "%%time\r\n",
    "tfidf_2grams      = TfidfVectorizer(ngram_range=(1,2))\r\n",
    "train_tfidf_2grams = tfidf_2grams.fit_transform(df_train['review'])\r\n",
    "valid_tfidf_2grams = tfidf_2grams.transform(df_valid['review'])"
   ],
   "outputs": [
    {
     "output_type": "stream",
     "name": "stdout",
     "text": [
      "Wall time: 17.6 s\n"
     ]
    }
   ],
   "metadata": {}
  },
  {
   "cell_type": "code",
   "execution_count": 18,
   "source": [
    "data = [\r\n",
    "    (\"BOW 1gram\",   train_bow_1gram, valid_bow_1gram),\r\n",
    "    (\"BOW 2grams\",  train_bow_2grams, valid_bow_2grams),\r\n",
    "    (\"TFIDF 1gram\", train_tfidf_1gram, valid_tfidf_1gram),\r\n",
    "    (\"TFIDF 2grams\",train_tfidf_2grams, valid_tfidf_2grams)\r\n",
    "]\r\n",
    "\r\n",
    "print(\"BOW 1gram   \", train_bow_1gram.shape)\r\n",
    "print(\"BOW 2grams  \", train_bow_2grams.shape)\r\n",
    "print(\"TFIDF 1gram \", train_tfidf_1gram.shape)\r\n",
    "print(\"TFIDF 2grams\", train_tfidf_2grams.shape)"
   ],
   "outputs": [
    {
     "output_type": "stream",
     "name": "stdout",
     "text": [
      "BOW 1gram    (20000, 68224)\n",
      "BOW 2grams   (20000, 1293966)\n",
      "TFIDF 1gram  (20000, 68224)\n",
      "TFIDF 2grams (20000, 1293966)\n"
     ]
    }
   ],
   "metadata": {}
  },
  {
   "cell_type": "markdown",
   "source": [
    "# <center> ML Models"
   ],
   "metadata": {}
  },
  {
   "cell_type": "code",
   "execution_count": 19,
   "source": [
    "y_train = df_train['sentiment']\r\n",
    "y_valid = df_valid['sentiment']"
   ],
   "outputs": [],
   "metadata": {}
  },
  {
   "cell_type": "markdown",
   "source": [
    "## Naive Bayes (<1 s)"
   ],
   "metadata": {}
  },
  {
   "cell_type": "code",
   "execution_count": 22,
   "source": [
    "for name, x_train, x_valid in data:\r\n",
    "    \r\n",
    "    #Train a MultinomialNB model and meassure the time\r\n",
    "    model = MultinomialNB()\r\n",
    "    ts = time.time()\r\n",
    "    model.fit(x_train, y_train)\r\n",
    "    t = time.time() - ts\r\n",
    "\r\n",
    "    a = accuracy_score(y_valid, model.predict(x_valid))\r\n",
    "    print(name, \"\\tAccuracy:\\t\", a, \"\\tTime:\\t\", t)"
   ],
   "outputs": [
    {
     "output_type": "stream",
     "name": "stdout",
     "text": [
      "BOW 1gram \tAccuracy:\t 0.8458 \tTime:\t 0.02797985076904297\n",
      "BOW 2grams \tAccuracy:\t 0.8724 \tTime:\t 0.17314457893371582\n",
      "TFIDF 1gram \tAccuracy:\t 0.8648 \tTime:\t 0.024003028869628906\n",
      "TFIDF 2grams \tAccuracy:\t 0.8774 \tTime:\t 0.1795048713684082\n"
     ]
    }
   ],
   "metadata": {}
  },
  {
   "cell_type": "markdown",
   "source": [
    "## Logistic Regression (30s)"
   ],
   "metadata": {}
  },
  {
   "cell_type": "code",
   "execution_count": 24,
   "source": [
    "for name, x_train, x_valid in data:\r\n",
    "    #Train a LogisticRegression model and meassure the time\r\n",
    "    model = LogisticRegression()\r\n",
    "    ts = time.time()\r\n",
    "    model.fit(x_train, y_train)\r\n",
    "    t = time.time() - ts\r\n",
    "    a = accuracy_score(y_valid, model.predict(x_valid))\r\n",
    "    print(name, \"\\tAccuracy:\\t\", a, \"\\tTime:\\t\", t)"
   ],
   "outputs": [
    {
     "output_type": "stream",
     "name": "stderr",
     "text": [
      "C:\\Users\\Matzo\\AppData\\Local\\Programs\\Python\\Python39\\lib\\site-packages\\sklearn\\linear_model\\_logistic.py:763: ConvergenceWarning: lbfgs failed to converge (status=1):\n",
      "STOP: TOTAL NO. of ITERATIONS REACHED LIMIT.\n",
      "\n",
      "Increase the number of iterations (max_iter) or scale the data as shown in:\n",
      "    https://scikit-learn.org/stable/modules/preprocessing.html\n",
      "Please also refer to the documentation for alternative solver options:\n",
      "    https://scikit-learn.org/stable/modules/linear_model.html#logistic-regression\n",
      "  n_iter_i = _check_optimize_result(\n"
     ]
    },
    {
     "output_type": "stream",
     "name": "stdout",
     "text": [
      "BOW 1gram \tAccuracy:\t 0.8814 \tTime:\t 2.728271722793579\n"
     ]
    },
    {
     "output_type": "stream",
     "name": "stderr",
     "text": [
      "C:\\Users\\Matzo\\AppData\\Local\\Programs\\Python\\Python39\\lib\\site-packages\\sklearn\\linear_model\\_logistic.py:763: ConvergenceWarning: lbfgs failed to converge (status=1):\n",
      "STOP: TOTAL NO. of ITERATIONS REACHED LIMIT.\n",
      "\n",
      "Increase the number of iterations (max_iter) or scale the data as shown in:\n",
      "    https://scikit-learn.org/stable/modules/preprocessing.html\n",
      "Please also refer to the documentation for alternative solver options:\n",
      "    https://scikit-learn.org/stable/modules/linear_model.html#logistic-regression\n",
      "  n_iter_i = _check_optimize_result(\n"
     ]
    },
    {
     "output_type": "stream",
     "name": "stdout",
     "text": [
      "BOW 2grams \tAccuracy:\t 0.893 \tTime:\t 38.74143862724304\n",
      "TFIDF 1gram \tAccuracy:\t 0.8808 \tTime:\t 1.7488698959350586\n",
      "TFIDF 2grams \tAccuracy:\t 0.8784 \tTime:\t 10.301854372024536\n"
     ]
    }
   ],
   "metadata": {}
  },
  {
   "cell_type": "markdown",
   "source": [
    "## Random Forest (10+90+6+22 segundos)"
   ],
   "metadata": {}
  },
  {
   "cell_type": "code",
   "execution_count": 26,
   "source": [
    "for name, x_train, x_valid in data:\r\n",
    "    #Train a RandomForestClassifier model and meassure the time\r\n",
    "\r\n",
    "    model = RandomForestClassifier(n_jobs=-1)\r\n",
    "    ts = time.time()\r\n",
    "    model.fit(x_train, y_train)\r\n",
    "    t = time.time() - ts\r\n",
    "    a = accuracy_score(y_valid, model.predict(x_valid))\r\n",
    "    print(name, \"\\tAccuracy:\\t\", a, \"\\tTime:\\t\", t)"
   ],
   "outputs": [
    {
     "output_type": "stream",
     "name": "stdout",
     "text": [
      "BOW 1gram \tAccuracy:\t 0.8358 \tTime:\t 10.189996480941772\n",
      "BOW 2grams \tAccuracy:\t 0.8426 \tTime:\t 88.35567021369934\n",
      "TFIDF 1gram \tAccuracy:\t 0.831 \tTime:\t 9.092476844787598\n",
      "TFIDF 2grams \tAccuracy:\t 0.8454 \tTime:\t 67.59655594825745\n"
     ]
    }
   ],
   "metadata": {}
  }
 ],
 "metadata": {
  "kernelspec": {
   "name": "python3",
   "display_name": "Python 3.9.6 64-bit"
  },
  "language_info": {
   "codemirror_mode": {
    "name": "ipython",
    "version": 3
   },
   "file_extension": ".py",
   "mimetype": "text/x-python",
   "name": "python",
   "nbconvert_exporter": "python",
   "pygments_lexer": "ipython3",
   "version": "3.9.6"
  },
  "interpreter": {
   "hash": "e7792b32be0245655abbd09574a2b2223a2788f4b2605c4cb174d77e47c13295"
  }
 },
 "nbformat": 4,
 "nbformat_minor": 2
}