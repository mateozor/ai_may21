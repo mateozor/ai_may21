{
    "cells": [
        {
            "cell_type": "code",
            "execution_count": 1,
            "source": [
                "!pip install wordcloud"
            ],
            "outputs": [
                {
                    "output_type": "stream",
                    "name": "stdout",
                    "text": [
                        "Collecting wordcloud\n",
                        "  Using cached wordcloud-1.8.1.tar.gz (220 kB)\n",
                        "Requirement already satisfied: numpy>=1.6.1 in c:\\users\\matzo\\appdata\\local\\programs\\python\\python39\\lib\\site-packages (from wordcloud) (1.21.0)\n",
                        "Requirement already satisfied: pillow in c:\\users\\matzo\\appdata\\local\\programs\\python\\python39\\lib\\site-packages (from wordcloud) (8.3.1)\n",
                        "Requirement already satisfied: matplotlib in c:\\users\\matzo\\appdata\\local\\programs\\python\\python39\\lib\\site-packages (from wordcloud) (3.4.2)\n",
                        "Requirement already satisfied: pyparsing>=2.2.1 in c:\\users\\matzo\\appdata\\roaming\\python\\python39\\site-packages (from matplotlib->wordcloud) (2.4.7)\n",
                        "Requirement already satisfied: cycler>=0.10 in c:\\users\\matzo\\appdata\\local\\programs\\python\\python39\\lib\\site-packages (from matplotlib->wordcloud) (0.10.0)\n",
                        "Requirement already satisfied: kiwisolver>=1.0.1 in c:\\users\\matzo\\appdata\\local\\programs\\python\\python39\\lib\\site-packages (from matplotlib->wordcloud) (1.3.1)\n",
                        "Requirement already satisfied: python-dateutil>=2.7 in c:\\users\\matzo\\appdata\\roaming\\python\\python39\\site-packages (from matplotlib->wordcloud) (2.8.1)\n",
                        "Requirement already satisfied: six in c:\\users\\matzo\\appdata\\roaming\\python\\python39\\site-packages (from cycler>=0.10->matplotlib->wordcloud) (1.16.0)\n",
                        "Using legacy 'setup.py install' for wordcloud, since package 'wheel' is not installed.\n",
                        "Installing collected packages: wordcloud\n",
                        "    Running setup.py install for wordcloud: started\n",
                        "    Running setup.py install for wordcloud: finished with status 'error'\n"
                    ]
                },
                {
                    "output_type": "stream",
                    "name": "stderr",
                    "text": [
                        "    ERROR: Command errored out with exit status 1:\n",
                        "     command: 'c:\\users\\matzo\\appdata\\local\\programs\\python\\python39\\python.exe' -u -c 'import io, os, sys, setuptools, tokenize; sys.argv[0] = '\"'\"'C:\\\\Users\\\\Matzo\\\\AppData\\\\Local\\\\Temp\\\\pip-install-97a3fb2y\\\\wordcloud_c981f629a9c745db93ee9ee573a63f56\\\\setup.py'\"'\"'; __file__='\"'\"'C:\\\\Users\\\\Matzo\\\\AppData\\\\Local\\\\Temp\\\\pip-install-97a3fb2y\\\\wordcloud_c981f629a9c745db93ee9ee573a63f56\\\\setup.py'\"'\"';f = getattr(tokenize, '\"'\"'open'\"'\"', open)(__file__) if os.path.exists(__file__) else io.StringIO('\"'\"'from setuptools import setup; setup()'\"'\"');code = f.read().replace('\"'\"'\\r\\n'\"'\"', '\"'\"'\\n'\"'\"');f.close();exec(compile(code, __file__, '\"'\"'exec'\"'\"'))' install --record 'C:\\Users\\Matzo\\AppData\\Local\\Temp\\pip-record-vjvpncpl\\install-record.txt' --single-version-externally-managed --compile --install-headers 'c:\\users\\matzo\\appdata\\local\\programs\\python\\python39\\Include\\wordcloud'\n",
                        "         cwd: C:\\Users\\Matzo\\AppData\\Local\\Temp\\pip-install-97a3fb2y\\wordcloud_c981f629a9c745db93ee9ee573a63f56\\\n",
                        "    Complete output (20 lines):\n",
                        "    running install\n",
                        "    running build\n",
                        "    running build_py\n",
                        "    creating build\n",
                        "    creating build\\lib.win-amd64-3.9\n",
                        "    creating build\\lib.win-amd64-3.9\\wordcloud\n",
                        "    copying wordcloud\\color_from_image.py -> build\\lib.win-amd64-3.9\\wordcloud\n",
                        "    copying wordcloud\\tokenization.py -> build\\lib.win-amd64-3.9\\wordcloud\n",
                        "    copying wordcloud\\wordcloud.py -> build\\lib.win-amd64-3.9\\wordcloud\n",
                        "    copying wordcloud\\wordcloud_cli.py -> build\\lib.win-amd64-3.9\\wordcloud\n",
                        "    copying wordcloud\\_version.py -> build\\lib.win-amd64-3.9\\wordcloud\n",
                        "    copying wordcloud\\__init__.py -> build\\lib.win-amd64-3.9\\wordcloud\n",
                        "    copying wordcloud\\__main__.py -> build\\lib.win-amd64-3.9\\wordcloud\n",
                        "    copying wordcloud\\stopwords -> build\\lib.win-amd64-3.9\\wordcloud\n",
                        "    copying wordcloud\\DroidSansMono.ttf -> build\\lib.win-amd64-3.9\\wordcloud\n",
                        "    UPDATING build\\lib.win-amd64-3.9\\wordcloud/_version.py\n",
                        "    set build\\lib.win-amd64-3.9\\wordcloud/_version.py to '1.8.1'\n",
                        "    running build_ext\n",
                        "    building 'wordcloud.query_integral_image' extension\n",
                        "    error: Microsoft Visual C++ 14.0 or greater is required. Get it with \"Microsoft C++ Build Tools\": https://visualstudio.microsoft.com/visual-cpp-build-tools/\n",
                        "    ----------------------------------------\n",
                        "ERROR: Command errored out with exit status 1: 'c:\\users\\matzo\\appdata\\local\\programs\\python\\python39\\python.exe' -u -c 'import io, os, sys, setuptools, tokenize; sys.argv[0] = '\"'\"'C:\\\\Users\\\\Matzo\\\\AppData\\\\Local\\\\Temp\\\\pip-install-97a3fb2y\\\\wordcloud_c981f629a9c745db93ee9ee573a63f56\\\\setup.py'\"'\"'; __file__='\"'\"'C:\\\\Users\\\\Matzo\\\\AppData\\\\Local\\\\Temp\\\\pip-install-97a3fb2y\\\\wordcloud_c981f629a9c745db93ee9ee573a63f56\\\\setup.py'\"'\"';f = getattr(tokenize, '\"'\"'open'\"'\"', open)(__file__) if os.path.exists(__file__) else io.StringIO('\"'\"'from setuptools import setup; setup()'\"'\"');code = f.read().replace('\"'\"'\\r\\n'\"'\"', '\"'\"'\\n'\"'\"');f.close();exec(compile(code, __file__, '\"'\"'exec'\"'\"'))' install --record 'C:\\Users\\Matzo\\AppData\\Local\\Temp\\pip-record-vjvpncpl\\install-record.txt' --single-version-externally-managed --compile --install-headers 'c:\\users\\matzo\\appdata\\local\\programs\\python\\python39\\Include\\wordcloud' Check the logs for full command output.\n"
                    ]
                }
            ],
            "metadata": {}
        }
    ],
    "metadata": {
        "orig_nbformat": 4,
        "language_info": {
            "name": "python",
            "version": "3.9.6",
            "mimetype": "text/x-python",
            "codemirror_mode": {
                "name": "ipython",
                "version": 3
            },
            "pygments_lexer": "ipython3",
            "nbconvert_exporter": "python",
            "file_extension": ".py"
        },
        "kernelspec": {
            "name": "python3",
            "display_name": "Python 3.9.6 64-bit"
        },
        "interpreter": {
            "hash": "e7792b32be0245655abbd09574a2b2223a2788f4b2605c4cb174d77e47c13295"
        }
    },
    "nbformat": 4,
    "nbformat_minor": 2
}