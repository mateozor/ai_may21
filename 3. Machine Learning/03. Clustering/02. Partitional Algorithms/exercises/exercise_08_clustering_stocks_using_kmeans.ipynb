{
 "cells": [
  {
   "cell_type": "markdown",
   "metadata": {},
   "source": [
    "# Exercise 8: Clustering stocks using KMeans\n",
    "\n",
    "In this exercise, you'll cluster companies using their daily stock price movements (i.e. the dollar difference between the closing and opening prices for each trading day).  You are given a NumPy array `movements` of daily price movements from 2010 to 2015, where each row corresponds to a company, and each column corresponds to a trading day.\n",
    "\n",
    "Some stocks are more expensive than others.  To account for this, include a `Normalizer` at the beginning of your pipeline.  The Normalizer will separately transform each company's stock price to a relative scale before the clustering begins.\n",
    "\n",
    "## Normalizer vs StandardScaler\n",
    "Note that `Normalizer()` is different to `StandardScaler()`, which you used in the previous exercise. While `StandardScaler()` standardizes **features** (such as the features of the fish data from the previous exercise) by removing the mean and scaling to unit variance, `Normalizer()` rescales **each sample** - here, each company's stock price - independently of the other.\n",
    "\n",
    "This dataset was obtained from the Yahoo! Finance API."
   ]
  },
  {
   "cell_type": "markdown",
   "metadata": {},
   "source": [
    "**Step 1:** Load the data _(written for you)_"
   ]
  },
  {
   "cell_type": "code",
   "execution_count": 2,
   "metadata": {
    "collapsed": true,
    "exercise": false
   },
   "outputs": [],
   "source": [
    "import pandas as pd\n",
    "import numpy as np\n",
    "\n",
    "fn = '../datasets/company-stock-movements-2010-2015-incl.csv'\n",
    "stocks_df = pd.read_csv(fn, index_col=0)"
   ]
  },
  {
   "cell_type": "markdown",
   "metadata": {},
   "source": [
    "**Step 2:** Inspect the first few rows of the DataFrame `stocks_df` by calling its `head()` function."
   ]
  },
  {
   "cell_type": "code",
   "execution_count": 6,
   "metadata": {},
   "outputs": [
    {
     "output_type": "execute_result",
     "data": {
      "text/plain": [
       ".490001    0.350001   -0.659999   \n",
       "Coca Cola                             0.790001    0.169998    0.090000   \n",
       "Lookheed Martin                       0.209999    0.719993    0.049995   \n",
       "MasterCard                            0.070000    4.340000    4.230003   \n",
       "McDonalds                             0.630001   -0.270001    0.090001   \n",
       "3M                                    0.470001   -0.330002   -0.239998   \n",
       "Microsoft                            -0.080000    0.090000    0.650000   \n",
       "Mitsubishi                           -0.010000    0.030000    0.090000   \n",
       "Navistar                             -0.510002    0.679996    0.639999   \n",
       "Northrop Grumman                      0.320001    1.540007    0.060001   \n",
       "Novartis                              0.360000   -0.020001    0.410000   \n",
       "Pepsi                                 1.029999    0.639999    0.779999   \n",
       "Pfizer                               -0.029999    0.339998    0.179998   \n",
       "Procter Gamble                        0.189998    0.479999    0.160004   \n",
       "Philip Morris                        -0.200001    0.500000    0.119998   \n",
       "Royal Dutch Shell                     0.169998    0.150002    0.399998   \n",
       "SAP                                  -0.030003   -0.209999   -1.080002   \n",
       "Schlumberger                          0.389999    1.139999    1.180000   \n",
       "Sony                                  0.100001    0.380001    0.140000   \n",
       "Sanofi-Aventis                        0.250000    0.049999    0.389999   \n",
       "Symantec                              0.139999   -0.049999   -0.010000   \n",
       "Toyota                                0.070000    0.200004    1.410003   \n",
       "Total                                 0.269997   -0.160004    0.290000   \n",
       "Taiwan Semiconductor Manufacturing   -0.180000    0.270000   -0.140000   \n",
       "Texas instruments                    -1.110000    0.010000   -0.180000   \n",
       "Unilever                              0.080000   -0.050003   -0.039997   \n",
       "Valero Energy                         0.039997   -0.139998    0.209993   \n",
       "Walgreen                             -0.099998    0.430000   -0.049999   \n",
       "Wells Fargo                          -0.389999    0.590000    0.490000   \n",
       "Wal-Mart                              0.730000    0.219997   -0.520001   \n",
       "Exxon                                 0.229996   -0.290001    0.139999   \n",
       "Xerox                                 0.170000    0.070000   -0.020000   \n",
       "Yahoo                                 0.030000    0.020001    0.310002   \n",
       "\n",
       "                                    2010-01-15  ...  2013-10-16  2013-10-17  \\\n",
       "Apple                                -4.999995  ...    0.320008    4.519997   \n",
       "AIG                                  -0.500000  ...    0.919998    0.709999   \n",
       "Amazon                               -2.039994  ...    2.109985    3.699982   \n",
       "American express                     -0.130001  ...    0.680001    2.290001   \n",
       "Boeing                               -0.709999  ...    1.559997    2.480003   \n",
       "Bank of America                      -0.379999  ...    0.240000    0.210000   \n",
       "British American Tobacco             -0.150002  ...    0.220001    2.250000   \n",
       "Canon                                -0.130001  ...    0.209999    0.560002   \n",
       "Caterpillar                          -1.330002  ...    0.209999    0.519996   \n",
       "Colgate-Palmolive                    -0.540001  ...    0.949997    1.520001   \n",
       "ConocoPhillips                        0.190000  ...    0.639999    0.730004   \n",
       "Cisco                                -0.600000  ...   -0.219999   -0.019998   \n",
       "Chevron                              -0.309998  ...   -0.259994    0.419999   \n",
       "DuPont de Nemours                     0.000000  ...    0.490003    0.529999   \n",
       "Dell                                 -0.470000  ...    0.009000    0.010000   \n",
       "Ford                                 -0.140000  ...    0.210001    0.219999   \n",
       "General Electrics                    -0.239999  ...    0.010001    0.300001   \n",
       "Google/Alphabet                     -13.340041  ...   12.160008   -4.200020   \n",
       "Goldman Sachs                        -2.389999  ...    3.669998    1.840011   \n",
       "GlaxoSmithKline                      -0.229999  ...    0.139999    0.310002   \n",
       "Home Depot                            0.260001  ...   -0.500000    1.229996   \n",
       "Honda                                -0.129997  ...    0.310002    0.349998   \n",
       "HP                                   -0.119998  ...    0.350001    0.259999   \n",
       "IBM                                  -0.250000  ...    1.309998    0.990006   \n",
       "Intel                                -0.590000  ...    0.440001    0.340000   \n",
       "Johnson & Johnson                    -0.580001  ...    0.690003    1.099998   \n",
       "JPMorgan Chase                       -0.619999  ...    1.389999    0.419998   \n",
       "Kimberly-Clark                       -0.620001  ...    0.970006    1.390009   \n",
       "Coca Cola                            -0.660000  ...   -0.009998    0.489998   \n",
       "Lookheed Martin                      -0.199997  ...    1.199997    1.790001   \n",
       "MasterCard                            0.839996  ...    6.040040   11.949997   \n",
       "McDonalds                            -0.389999  ...    0.919998    0.279999   \n",
       "3M                                   -0.149994  ...    0.080001    1.880005   \n",
       "Microsoft                            -0.219999  ...    0.040001    0.469997   \n",
       "Mitsubishi                            0.050000  ...    0.070000    0.070000   \n",
       "Navistar                             -0.590000  ...    0.539997    0.169998   \n",
       "Northrop Grumman                     -0.440002  ...    0.660003    2.220001   \n",
       "Novartis                              0.040001  ...    0.450004    0.150002   \n",
       "Pepsi                                -0.320000  ...    0.269997    0.529999   \n",
       "Pfizer                                0.060000  ...    0.539999    0.440000   \n",
       "Procter Gamble                       -0.779998  ...    0.989998    1.229996   \n",
       "Philip Morris                        -0.040001  ...    0.139999    1.059997   \n",
       "Royal Dutch Shell                    -0.500000  ...   -0.120003    0.660004   \n",
       "SAP                                  -0.719997  ...    0.580002    0.069999   \n",
       "Schlumberger                         -0.389999  ...    1.250000   -0.400002   \n",
       "Sony                                 -0.200001  ...    0.130001    0.280001   \n",
       "Sanofi-Aventis                       -0.380001  ...    0.100002    0.330002   \n",
       "Symantec                             -0.140000  ...   -0.010000    0.059999   \n",
       "Toyota                               -0.739998  ...    0.740005    0.650009   \n",
       "Total                                -0.710003  ...   -0.380001    0.389999   \n",
       "Taiwan Semiconductor Manufacturing   -0.340000  ...    0.110001    0.400000   \n",
       "Texas instruments                    -0.180000  ...    0.759998    0.370003   \n",
       "Unilever                             -0.090001  ...    0.170002    0.289997   \n",
       "Valero Energy                         0.520001  ...    0.490002    1.200000   \n",
       "Walgreen                             -0.330002  ...    0.849998    1.119999   \n",
       "Wells Fargo                          -0.740000  ...    0.299999    0.639999   \n",
       "Wal-Mart                             -0.660000  ...    0.790000    0.290001   \n",
       "Exxon                                -0.540001  ...   -0.170005    0.350006   \n",
       "Xerox                                -0.010000  ...    0.010000    0.140000   \n",
       "Yahoo                                -0.430000  ...   -0.810002   -0.139999   \n",
       "\n",
       "                                    2013-10-18  2013-10-21  2013-10-22  \\\n",
       "Apple                                 2.899987    9.590019   -6.540016   \n",
       "AIG                                   0.119999   -0.480000    0.010002   \n",
       "Amazon                                9.570008   -3.450013    4.820008   \n",
       "American express                      0.409996   -0.069999    0.100006   \n",
       "Boeing                                0.019997   -1.220001    0.480003   \n",
       "Bank of America                      -0.050000   -0.010000   -0.030000   \n",
       "British American Tobacco              0.470001    0.320000   -0.040001   \n",
       "Canon                                 0.069999    0.119999    0.050003   \n",
       "Caterpillar                           1.029998   -0.020004    1.290001   \n",
       "Colgate-Palmolive                    -0.320000   -0.500000    1.080002   \n",
       "ConocoPhillips                       -0.150002   -0.479996    0.000000   \n",
       "Cisco                                 0.099998   -0.180001   -0.340000   \n",
       "Chevron                               0.040001    0.190003    0.500000   \n",
       "DuPont de Nemours                    -0.200000    0.000000    0.349998   \n",
       "Dell                                 -0.020000    0.010000   -0.005000   \n",
       "Ford                                  0.010001   -0.090000    0.050001   \n",
       "General Electrics                     0.340000    0.269998   -0.170001   \n",
       "Google/Alphabet                      34.830004   -8.159984    2.000013   \n",
       "Goldman Sachs                        -0.149994    1.100006   -1.389999   \n",
       "GlaxoSmithKline                      -0.130001    0.120003    0.160000   \n",
       "Home Depot                           -0.570000    0.020005   -0.180000   \n",
       "Honda                                 0.020001    0.050003    0.100002   \n",
       "HP                                   -0.050000    0.030001    0.470001   \n",
       "IBM                                  -1.020004   -1.559997    1.619995   \n",
       "Intel                                 0.019998    0.199998   -0.100000   \n",
       "Johnson & Johnson                    -0.120003   -0.430000    0.830002   \n",
       "JPMorgan Chase                        0.040001    0.000000   -1.030003   \n",
       "Kimberly-Clark                       -0.450002    0.000000    0.539993   \n",
       "Coca Cola                             0.199997   -0.130001    0.229999   \n",
       "Lookheed Martin                      -0.710007   -3.599991    0.460007   \n",
       "MasterCard                            8.190003    0.819931   -3.080063   \n",
       "McDonalds                            -0.500000    0.889999    0.440003   \n",
       "3M                                   -0.030007    0.459999    0.440002   \n",
       "Microsoft                             0.139999    0.010002   -0.439998   \n",
       "Mitsubishi                            0.020000    0.010000   -0.010000   \n",
       "Navistar                              0.829998   -0.469997    0.010002   \n",
       "Northrop Grumman                      0.709999   -1.540001    0.799995   \n",
       "Novartis                              0.479996    0.490005    1.010002   \n",
       "Pepsi                                 0.360000   -0.599998    0.990005   \n",
       "Pfizer                                0.319999   -0.069999    0.300001   \n",
       "Procter Gamble                        0.020005   -0.299996    1.069999   \n",
       "Philip Morris                         0.080002    0.209999    1.010002   \n",
       "Royal Dutch Shell                     0.310005    0.489998    0.200005   \n",
       "SAP                                   1.629997   -0.939994    0.800003   \n",
       "Schlumberger                          0.890000   -0.640000    1.070000   \n",
       "Sony                                 -0.260000    0.010000    0.020001   \n",
       "Sanofi-Aventis                        0.310001    0.230000   -0.010003   \n",
       "Symantec                              0.199998   -0.080000   -0.310001   \n",
       "Toyota                                0.520004    0.010010   -1.819992   \n",
       "Total                                 0.030003   -0.219997    0.489998   \n",
       "Taiwan Semiconductor Manufacturing    0.330000    0.029999    0.100001   \n",
       "Texas instruments                     0.020000    0.440003    0.099999   \n",
       "Unilever                             -0.029999    0.079998    0.090000   \n",
       "Valero Energy                         0.369998    0.490002    0.510002   \n",
       "Walgreen                             -0.240002   -0.219997    0.189999   \n",
       "Wells Fargo                          -0.040001   -0.020000    0.189999   \n",
       "Wal-Mart                             -0.090004   -0.569999    0.890000   \n",
       "Exxon                                -0.139999   -0.269997    0.690002   \n",
       "Xerox                                 0.030000    0.050000   -0.120000   \n",
       "Yahoo                                 0.260002    0.409999   -0.300003   \n",
       "\n",
       "                                    2013-10-23  2013-10-24  2013-10-25  \\\n",
       "Apple                                 5.959976    6.910011   -5.359962   \n",
       "AIG                                  -0.279998   -0.190003   -0.040001   \n",
       "Amazon                               -4.079986    2.579986    4.790009   \n",
       "American express                      0.069999    0.130005    1.849999   \n",
       "Boeing                                3.020004   -0.029999    1.940002   \n",
       "Bank of America                      -0.240000    0.050000    0.110000   \n",
       "British American Tobacco             -0.430000   -0.019997   -0.129998   \n",
       "Canon                                -0.459999    0.259998   -0.109999   \n",
       "Caterpillar                          -0.390000    1.209999    0.449997   \n",
       "Colgate-Palmolive                     0.280002    0.620003    0.359996   \n",
       "ConocoPhillips                       -0.529999    0.720001    0.529999   \n",
       "Cisco                                -0.350001    0.030001   -0.130001   \n",
       "Chevron                              -0.160004   -0.110000    0.000000   \n",
       "DuPont de Nemours                    -0.180000    1.150003   -0.669999   \n",
       "Dell                                 -0.005000    0.010000   -0.010000   \n",
       "Ford                                 -0.140000   -0.250000   -0.240000   \n",
       "General Electrics                    -0.289999    0.100001   -0.190001   \n",
       "Google/Alphabet                      30.409929   -6.320089  -13.620034   \n",
       "Goldman Sachs                        -0.279999    0.510010    2.089996   \n",
       "GlaxoSmithKline                       0.129997    0.050003   -0.010002   \n",
       "Home Depot                            0.540001    1.360001   -0.300003   \n",
       "Honda                                -0.090000    0.039997   -0.090000   \n",
       "HP                                   -0.079999    0.100000   -0.080002   \n",
       "IBM                                   0.680008    1.370010   -1.579987   \n",
       "Intel                                -0.190000   -0.080000    0.129999   \n",
       "Johnson & Johnson                     0.029998   -0.300004    0.049995   \n",
       "JPMorgan Chase                       -0.560001   -0.360000    0.610000   \n",
       "Kimberly-Clark                        2.740000   -0.510002    1.509999   \n",
       "Coca Cola                             0.009998   -0.350003    0.189999   \n",
       "Lookheed Martin                       1.979996    0.599991    1.589996   \n",
       "MasterCard                           -5.029984   10.140000   -1.220016   \n",
       "McDonalds                            -0.870003    0.269996    0.000000   \n",
       "3M                                   -0.230003    0.529999    1.369995   \n",
       "Microsoft                            -0.590000   -0.099999   -0.150001   \n",
       "Mitsubishi                           -0.020000    0.020000    0.020000   \n",
       "Navistar                              0.200000   -0.070000   -0.270000   \n",
       "Northrop Grumman                      3.059998    1.520004    1.090004   \n",
       "Novartis                              0.300003   -0.310006   -0.240006   \n",
       "Pepsi                                 0.060005   -0.870003    0.799995   \n",
       "Pfizer                               -0.050000   -0.069999    0.130001   \n",
       "Procter Gamble                        0.570008   -0.159996   -0.550003   \n",
       "Philip Morris                         0.720001   -0.470002    0.830001   \n",
       "Royal Dutch Shell                    -0.169998   -0.330002   -0.290001   \n",
       "SAP                                   0.200005   -0.340004   -0.360001   \n",
       "Schlumberger                         -0.830002    0.040000    0.430001   \n",
       "Sony                                 -0.149999   -0.060002    0.010000   \n",
       "Sanofi-Aventis                        0.280003    0.030002    0.190003   \n",
       "Symantec                             -0.349998    0.190001    0.240000   \n",
       "Toyota                               -0.009995    0.220001   -0.119996   \n",
       "Total                                 0.020001   -0.159999   -0.500000   \n",
       "Taiwan Semiconductor Manufacturing   -0.260001   -0.119999    0.090000   \n",
       "Texas instruments                    -0.270000    0.229999    0.279999   \n",
       "Unilever                             -0.040001   -0.220001    0.070000   \n",
       "Valero Energy                         0.049999   -0.530003   -0.040001   \n",
       "Walgreen                              0.080002    0.380001   -0.050003   \n",
       "Wells Fargo                          -0.150002   -0.240001    0.220002   \n",
       "Wal-Mart                             -0.279998    0.389999   -0.290001   \n",
       "Exxon                                 0.090004    0.439995   -0.260002   \n",
       "Xerox                                -0.200000   -0.860000   -0.030000   \n",
       "Yahoo                                -0.660000   -0.079998   -0.060001   \n",
       "\n",
       "                                    2013-10-28  2013-10-29  \n",
       "Apple                                 0.840019  -19.589981  \n",
       "AIG                                  -0.400002    0.660000  \n",
       "Amazon                               -1.760009    3.740021  \n",
       "American express                      0.040001    0.540001  \n",
       "Boeing                                1.130005    0.309998  \n",
       "Bank of America                      -0.060000   -0.110000  \n",
       "British American Tobacco              0.330002    1.150001  \n",
       "Canon                                 0.090001   -0.110001  \n",
       "Caterpillar                          -0.220001    0.159996  \n",
       "Colgate-Palmolive                     1.070003    1.050003  \n",
       "ConocoPhillips                       -0.020005    0.139999  \n",
       "Cisco                                 0.149999    0.170000  \n",
       "Chevron                               0.350006    0.169998  \n",
       "DuPont de Nemours                    -0.329999   -0.120000  \n",
       "Dell                                 -0.010000    0.020000  \n",
       "Ford                                 -0.090000    0.040001  \n",
       "General Electrics                     0.210001    0.019998  \n",
       "Google/Alphabet                      -0.199995   17.139948  \n",
       "Goldman Sachs                        -0.550003    0.039994  \n",
       "GlaxoSmithKline                       0.330002    0.149998  \n",
       "Home Depot                           -0.090004    1.050003  \n",
       "Honda                                -0.120003   -0.020001  \n",
       "HP                                   -0.130000   -0.120002  \n",
       "IBM                                   0.310013    4.500000  \n",
       "Intel                                 0.180001    0.120000  \n",
       "Johnson & Johnson                     0.430000    0.339996  \n",
       "JPMorgan Chase                       -0.209999   -0.100002  \n",
       "Kimberly-Clark                        1.799993    0.749999  \n",
       "Coca Cola                             0.590001    0.229999  \n",
       "Lookheed Martin                      -0.529999    0.260010  \n",
       "MasterCard                            5.910034   -0.999985  \n",
       "McDonalds                             0.680001    0.430000  \n",
       "3M                                    0.790001    0.199997  \n",
       "Microsoft                            -0.040001   -0.110001  \n",
       "Mitsubishi                           -0.010000    0.040000  \n",
       "Navistar                              0.350002   -0.139999  \n",
       "Northrop Grumman                     -0.229995    0.419999  \n",
       "Novartis                              0.050003   -0.239997  \n",
       "Pepsi                                 1.250000    0.739998  \n",
       "Pfizer                                0.289999    0.410000  \n",
       "Procter Gamble                        1.190002    1.000000  \n",
       "Philip Morris                         1.169999    0.260003  \n",
       "Royal Dutch Shell                     0.020004   -0.220001  \n",
       "SAP                                  -0.229996   -0.670006  \n",
       "Schlumberger                          0.139999    0.760002  \n",
       "Sony                                  0.010000   -0.030000  \n",
       "Sanofi-Aventis                        0.170002   -0.160004  \n",
       "Symantec                             -0.039999    0.080000  \n",
       "Toyota                               -0.630005    0.449997  \n",
       "Total                                 0.180000    0.000000  \n",
       "Taiwan Semiconductor Manufacturing    0.020001    0.079999  \n",
       "Texas instruments                     0.879997    0.349998  \n",
       "Unilever                              0.400002    0.149998  \n",
       "Valero Energy                        -0.180000    0.369999  \n",
       "Walgreen                             -0.130001    0.410000  \n",
       "Wells Fargo                           0.000000   -0.049999  \n",
       "Wal-Mart                              0.979995   -0.190002  \n",
       "Exxon                                 0.400001    0.480003  \n",
       "Xerox                                 0.020000   -0.030000  \n",
       "Yahoo                                 0.259998    0.099998  \n",
       "\n",
       "[60 rows x 963 columns]>"
      ]
     },
     "metadata": {},
     "execution_count": 6
    }
   ],
   "source": [
    "stocks_df.head"
   ]
  },
  {
   "cell_type": "markdown",
   "metadata": {},
   "source": [
    "**Step 3:** Extract the NumPy array `movements` from the DataFrame and the list of company names (_written for you_)"
   ]
  },
  {
   "cell_type": "code",
   "execution_count": 3,
   "metadata": {
    "collapsed": true,
    "exercise": false
   },
   "outputs": [],
   "source": [
    "companies = list(stocks_df.index)\n",
    "movements = stocks_df.values"
   ]
  },
  {
   "cell_type": "markdown",
   "metadata": {},
   "source": [
    "**Step 4:** Make the necessary imports:\n",
    "\n",
    "- `Normalizer` from `sklearn.preprocessing`.\n",
    "- `KMeans` from `sklearn.cluster`.\n",
    "- `make_pipeline` from `sklearn.pipeline`."
   ]
  },
  {
   "cell_type": "code",
   "execution_count": 4,
   "metadata": {
    "collapsed": true
   },
   "outputs": [],
   "source": [
    "from sklearn.preprocessing import Normalizer\n",
    "from sklearn.cluster import KMeans\n",
    "from sklearn.pipeline import make_pipeline"
   ]
  },
  {
   "cell_type": "markdown",
   "metadata": {},
   "source": [
    "**Step 3:** Create an instance of `Normalizer` called `normalizer`."
   ]
  },
  {
   "cell_type": "code",
   "execution_count": 5,
   "metadata": {
    "collapsed": true
   },
   "outputs": [],
   "source": [
    "normalizer = Normalizer()"
   ]
  },
  {
   "cell_type": "markdown",
   "metadata": {},
   "source": [
    "**Step 4:** Create an instance of `KMeans` called `kmeans` with `14` clusters."
   ]
  },
  {
   "cell_type": "code",
   "execution_count": 6,
   "metadata": {
    "collapsed": true
   },
   "outputs": [],
   "source": [
    "kmeans = KMeans(n_clusters=14)\n"
   ]
  },
  {
   "cell_type": "markdown",
   "metadata": {},
   "source": [
    "**Step 5:** Using `make_pipeline()`, create a pipeline called `pipeline` that chains `normalizer` and `kmeans`."
   ]
  },
  {
   "cell_type": "code",
   "execution_count": 7,
   "metadata": {
    "collapsed": true
   },
   "outputs": [],
   "source": [
    "pipeline = make_pipeline(normalizer, kmeans)"
   ]
  },
  {
   "cell_type": "markdown",
   "metadata": {},
   "source": [
    "**Step 6:** Fit the pipeline to the `movements` array."
   ]
  },
  {
   "cell_type": "code",
   "execution_count": 8,
   "metadata": {},
   "outputs": [
    {
     "output_type": "execute_result",
     "data": {
      "text/plain": [
       "Pipeline(steps=[('normalizer', Normalizer()),\n",
       "                ('kmeans', KMeans(n_clusters=14))])"
      ]
     },
     "metadata": {},
     "execution_count": 8
    }
   ],
   "source": [
    "pipeline.fit(movements)"
   ]
  },
  {
   "cell_type": "markdown",
   "metadata": {},
   "source": [
    "**In the next exercise:** Let's check out your clustering!"
   ]
  }
 ],
 "metadata": {
  "kernelspec": {
   "name": "python3",
   "display_name": "Python 3.9.6 64-bit"
  },
  "language_info": {
   "codemirror_mode": {
    "name": "ipython",
    "version": 3
   },
   "file_extension": ".py",
   "mimetype": "text/x-python",
   "name": "python",
   "nbconvert_exporter": "python",
   "pygments_lexer": "ipython3",
   "version": "3.9.6"
  },
  "interpreter": {
   "hash": "e7792b32be0245655abbd09574a2b2223a2788f4b2605c4cb174d77e47c13295"
  }
 },
 "nbformat": 4,
 "nbformat_minor": 2
}