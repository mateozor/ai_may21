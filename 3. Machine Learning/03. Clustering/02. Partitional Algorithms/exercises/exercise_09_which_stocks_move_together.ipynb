{
 "cells": [
  {
   "cell_type": "markdown",
   "metadata": {},
   "source": [
    "# Exercise 9: Which stocks move together?\n",
    "\n",
    "In the previous exercise, you clustered companies by their daily stock price movements.  So which company have stock prices that tend to change in the same way?  Now inspect the cluster labels from your clustering to find out."
   ]
  },
  {
   "cell_type": "markdown",
   "metadata": {},
   "source": [
    "**Step 1:** Load the data _(written for you)_."
   ]
  },
  {
   "cell_type": "code",
   "execution_count": 1,
   "metadata": {
    "collapsed": true,
    "exercise": false
   },
   "outputs": [],
   "source": [
    "import pandas as pd\n",
    "\n",
    "fn = '../datasets/company-stock-movements-2010-2015-incl.csv'\n",
    "stocks_df = pd.read_csv(fn, index_col=0)"
   ]
  },
  {
   "cell_type": "markdown",
   "metadata": {},
   "source": [
    "**Step 2:** Run your code from the previous exercise _(filled in for you)_."
   ]
  },
  {
   "cell_type": "code",
   "execution_count": 2,
   "metadata": {
    "exercise": false
   },
   "outputs": [
    {
     "output_type": "execute_result",
     "data": {
      "text/plain": [
       "Pipeline(steps=[('normalizer', Normalizer()),\n",
       "                ('kmeans', KMeans(n_clusters=14))])"
      ]
     },
     "metadata": {},
     "execution_count": 2
    }
   ],
   "source": [
    "companies = list(stocks_df.index)\n",
    "movements = stocks_df.values\n",
    "\n",
    "from sklearn.preprocessing import Normalizer\n",
    "from sklearn.cluster import KMeans\n",
    "from sklearn.pipeline import make_pipeline\n",
    "\n",
    "normalizer = Normalizer()\n",
    "kmeans = KMeans(n_clusters=14)\n",
    "pipeline = make_pipeline(normalizer, kmeans)\n",
    "pipeline.fit(movements)"
   ]
  },
  {
   "cell_type": "markdown",
   "metadata": {},
   "source": [
    "**Step 3:** Use the `.predict()` method of the pipeline to predict the labels for `movements`."
   ]
  },
  {
   "cell_type": "code",
   "execution_count": 6,
   "metadata": {
    "collapsed": true
   },
   "outputs": [],
   "source": [
    "labels = pipeline.predict(movements)"
   ]
  },
  {
   "cell_type": "markdown",
   "metadata": {},
   "source": [
    "**Step 4:** Align the cluster labels with the list of company names `companies` by creating a DataFrame `df` with `labels` and `companies` as columns."
   ]
  },
  {
   "cell_type": "code",
   "execution_count": 13,
   "metadata": {
    "collapsed": true
   },
   "outputs": [
    {
     "output_type": "execute_result",
     "data": {
      "text/plain": [
       "                                     0  labels\n",
       "0                                Apple       2\n",
       "1                                  AIG       0\n",
       "2                               Amazon      13\n",
       "3                     American express       4\n",
       "4                               Boeing       5\n",
       "5                      Bank of America       4\n",
       "6             British American Tobacco       6\n",
       "7                                Canon       7\n",
       "8                          Caterpillar       2\n",
       "9                    Colgate-Palmolive      11\n",
       "10                      ConocoPhillips       1\n",
       "11                               Cisco       8\n",
       "12                             Chevron       1\n",
       "13                   DuPont de Nemours       2\n",
       "14                                Dell       8\n",
       "15                                Ford       4\n",
       "16                   General Electrics       4\n",
       "17                     Google/Alphabet      12\n",
       "18                       Goldman Sachs       4\n",
       "19                     GlaxoSmithKline       6\n",
       "20                          Home Depot       9\n",
       "21                               Honda       7\n",
       "22                                  HP       8\n",
       "23                                 IBM       9\n",
       "24                               Intel       8\n",
       "25                   Johnson & Johnson       9\n",
       "26                      JPMorgan Chase       4\n",
       "27                      Kimberly-Clark      11\n",
       "28                           Coca Cola      10\n",
       "29                     Lookheed Martin       5\n",
       "30                          MasterCard       9\n",
       "31                           McDonalds      10\n",
       "32                                  3M       9\n",
       "33                           Microsoft       8\n",
       "34                          Mitsubishi       7\n",
       "35                            Navistar       2\n",
       "36                    Northrop Grumman       5\n",
       "37                            Novartis       6\n",
       "38                               Pepsi      10\n",
       "39                              Pfizer       1\n",
       "40                      Procter Gamble      11\n",
       "41                       Philip Morris      10\n",
       "42                   Royal Dutch Shell       6\n",
       "43                                 SAP       6\n",
       "44                        Schlumberger       1\n",
       "45                                Sony       7\n",
       "46                      Sanofi-Aventis       6\n",
       "47                            Symantec      12\n",
       "48                              Toyota       7\n",
       "49                               Total       6\n",
       "50  Taiwan Semiconductor Manufacturing       9\n",
       "51                   Texas instruments       2\n",
       "52                            Unilever       6\n",
       "53                       Valero Energy       3\n",
       "54                            Walgreen       9\n",
       "55                         Wells Fargo       4\n",
       "56                            Wal-Mart      10\n",
       "57                               Exxon       1\n",
       "58                               Xerox       9\n",
       "59                               Yahoo      13"
      ],
      "text/html": "<div>\n<style scoped>\n    .dataframe tbody tr th:only-of-type {\n        vertical-align: middle;\n    }\n\n    .dataframe tbody tr th {\n        vertical-align: top;\n    }\n\n    .dataframe thead th {\n        text-align: right;\n    }\n</style>\n<table border=\"1\" class=\"dataframe\">\n  <thead>\n    <tr style=\"text-align: right;\">\n      <th></th>\n      <th>0</th>\n      <th>labels</th>\n    </tr>\n  </thead>\n  <tbody>\n    <tr>\n      <th>0</th>\n      <td>Apple</td>\n      <td>2</td>\n    </tr>\n    <tr>\n      <th>1</th>\n      <td>AIG</td>\n      <td>0</td>\n    </tr>\n    <tr>\n      <th>2</th>\n      <td>Amazon</td>\n      <td>13</td>\n    </tr>\n    <tr>\n      <th>3</th>\n      <td>American express</td>\n      <td>4</td>\n    </tr>\n    <tr>\n      <th>4</th>\n      <td>Boeing</td>\n      <td>5</td>\n    </tr>\n    <tr>\n      <th>5</th>\n      <td>Bank of America</td>\n      <td>4</td>\n    </tr>\n    <tr>\n      <th>6</th>\n      <td>British American Tobacco</td>\n      <td>6</td>\n    </tr>\n    <tr>\n      <th>7</th>\n      <td>Canon</td>\n      <td>7</td>\n    </tr>\n    <tr>\n      <th>8</th>\n      <td>Caterpillar</td>\n      <td>2</td>\n    </tr>\n    <tr>\n      <th>9</th>\n      <td>Colgate-Palmolive</td>\n      <td>11</td>\n    </tr>\n    <tr>\n      <th>10</th>\n      <td>ConocoPhillips</td>\n      <td>1</td>\n    </tr>\n    <tr>\n      <th>11</th>\n      <td>Cisco</td>\n      <td>8</td>\n    </tr>\n    <tr>\n      <th>12</th>\n      <td>Chevron</td>\n      <td>1</td>\n    </tr>\n    <tr>\n      <th>13</th>\n      <td>DuPont de Nemours</td>\n      <td>2</td>\n    </tr>\n    <tr>\n      <th>14</th>\n      <td>Dell</td>\n      <td>8</td>\n    </tr>\n    <tr>\n      <th>15</th>\n      <td>Ford</td>\n      <td>4</td>\n    </tr>\n    <tr>\n      <th>16</th>\n      <td>General Electrics</td>\n      <td>4</td>\n    </tr>\n    <tr>\n      <th>17</th>\n      <td>Google/Alphabet</td>\n      <td>12</td>\n    </tr>\n    <tr>\n      <th>18</th>\n      <td>Goldman Sachs</td>\n      <td>4</td>\n    </tr>\n    <tr>\n      <th>19</th>\n      <td>GlaxoSmithKline</td>\n      <td>6</td>\n    </tr>\n    <tr>\n      <th>20</th>\n      <td>Home Depot</td>\n      <td>9</td>\n    </tr>\n    <tr>\n      <th>21</th>\n      <td>Honda</td>\n      <td>7</td>\n    </tr>\n    <tr>\n      <th>22</th>\n      <td>HP</td>\n      <td>8</td>\n    </tr>\n    <tr>\n      <th>23</th>\n      <td>IBM</td>\n      <td>9</td>\n    </tr>\n    <tr>\n      <th>24</th>\n      <td>Intel</td>\n      <td>8</td>\n    </tr>\n    <tr>\n      <th>25</th>\n      <td>Johnson &amp; Johnson</td>\n      <td>9</td>\n    </tr>\n    <tr>\n      <th>26</th>\n      <td>JPMorgan Chase</td>\n      <td>4</td>\n    </tr>\n    <tr>\n      <th>27</th>\n      <td>Kimberly-Clark</td>\n      <td>11</td>\n    </tr>\n    <tr>\n      <th>28</th>\n      <td>Coca Cola</td>\n      <td>10</td>\n    </tr>\n    <tr>\n      <th>29</th>\n      <td>Lookheed Martin</td>\n      <td>5</td>\n    </tr>\n    <tr>\n      <th>30</th>\n      <td>MasterCard</td>\n      <td>9</td>\n    </tr>\n    <tr>\n      <th>31</th>\n      <td>McDonalds</td>\n      <td>10</td>\n    </tr>\n    <tr>\n      <th>32</th>\n      <td>3M</td>\n      <td>9</td>\n    </tr>\n    <tr>\n      <th>33</th>\n      <td>Microsoft</td>\n      <td>8</td>\n    </tr>\n    <tr>\n      <th>34</th>\n      <td>Mitsubishi</td>\n      <td>7</td>\n    </tr>\n    <tr>\n      <th>35</th>\n      <td>Navistar</td>\n      <td>2</td>\n    </tr>\n    <tr>\n      <th>36</th>\n      <td>Northrop Grumman</td>\n      <td>5</td>\n    </tr>\n    <tr>\n      <th>37</th>\n      <td>Novartis</td>\n      <td>6</td>\n    </tr>\n    <tr>\n      <th>38</th>\n      <td>Pepsi</td>\n      <td>10</td>\n    </tr>\n    <tr>\n      <th>39</th>\n      <td>Pfizer</td>\n      <td>1</td>\n    </tr>\n    <tr>\n      <th>40</th>\n      <td>Procter Gamble</td>\n      <td>11</td>\n    </tr>\n    <tr>\n      <th>41</th>\n      <td>Philip Morris</td>\n      <td>10</td>\n    </tr>\n    <tr>\n      <th>42</th>\n      <td>Royal Dutch Shell</td>\n      <td>6</td>\n    </tr>\n    <tr>\n      <th>43</th>\n      <td>SAP</td>\n      <td>6</td>\n    </tr>\n    <tr>\n      <th>44</th>\n      <td>Schlumberger</td>\n      <td>1</td>\n    </tr>\n    <tr>\n      <th>45</th>\n      <td>Sony</td>\n      <td>7</td>\n    </tr>\n    <tr>\n      <th>46</th>\n      <td>Sanofi-Aventis</td>\n      <td>6</td>\n    </tr>\n    <tr>\n      <th>47</th>\n      <td>Symantec</td>\n      <td>12</td>\n    </tr>\n    <tr>\n      <th>48</th>\n      <td>Toyota</td>\n      <td>7</td>\n    </tr>\n    <tr>\n      <th>49</th>\n      <td>Total</td>\n      <td>6</td>\n    </tr>\n    <tr>\n      <th>50</th>\n      <td>Taiwan Semiconductor Manufacturing</td>\n      <td>9</td>\n    </tr>\n    <tr>\n      <th>51</th>\n      <td>Texas instruments</td>\n      <td>2</td>\n    </tr>\n    <tr>\n      <th>52</th>\n      <td>Unilever</td>\n      <td>6</td>\n    </tr>\n    <tr>\n      <th>53</th>\n      <td>Valero Energy</td>\n      <td>3</td>\n    </tr>\n    <tr>\n      <th>54</th>\n      <td>Walgreen</td>\n      <td>9</td>\n    </tr>\n    <tr>\n      <th>55</th>\n      <td>Wells Fargo</td>\n      <td>4</td>\n    </tr>\n    <tr>\n      <th>56</th>\n      <td>Wal-Mart</td>\n      <td>10</td>\n    </tr>\n    <tr>\n      <th>57</th>\n      <td>Exxon</td>\n      <td>1</td>\n    </tr>\n    <tr>\n      <th>58</th>\n      <td>Xerox</td>\n      <td>9</td>\n    </tr>\n    <tr>\n      <th>59</th>\n      <td>Yahoo</td>\n      <td>13</td>\n    </tr>\n  </tbody>\n</table>\n</div>"
     },
     "metadata": {},
     "execution_count": 13
    }
   ],
   "source": [
    "df = pd.DataFrame(companies)\n",
    "df['labels'] = labels\n",
    "df"
   ]
  },
  {
   "cell_type": "markdown",
   "metadata": {},
   "source": [
    "**Step 5:** Now display the DataFrame, sorted by cluster label.  To do this, use the `.sort_values()` method of `df` to sort the DataFrame by the `'labels'` column."
   ]
  },
  {
   "cell_type": "code",
   "execution_count": 16,
   "metadata": {},
   "outputs": [
    {
     "output_type": "execute_result",
     "data": {
      "text/plain": [
       "                                     0  labels\n",
       "1                                  AIG       0\n",
       "44                        Schlumberger       1\n",
       "57                               Exxon       1\n",
       "12                             Chevron       1\n",
       "39                              Pfizer       1\n",
       "10                      ConocoPhillips       1\n",
       "35                            Navistar       2\n",
       "13                   DuPont de Nemours       2\n",
       "0                                Apple       2\n",
       "51                   Texas instruments       2\n",
       "8                          Caterpillar       2\n",
       "53                       Valero Energy       3\n",
       "18                       Goldman Sachs       4\n",
       "5                      Bank of America       4\n",
       "55                         Wells Fargo       4\n",
       "15                                Ford       4\n",
       "16                   General Electrics       4\n",
       "3                     American express       4\n",
       "26                      JPMorgan Chase       4\n",
       "36                    Northrop Grumman       5\n",
       "29                     Lookheed Martin       5\n",
       "4                               Boeing       5\n",
       "52                            Unilever       6\n",
       "49                               Total       6\n",
       "6             British American Tobacco       6\n",
       "46                      Sanofi-Aventis       6\n",
       "19                     GlaxoSmithKline       6\n",
       "43                                 SAP       6\n",
       "42                   Royal Dutch Shell       6\n",
       "37                            Novartis       6\n",
       "48                              Toyota       7\n",
       "45                                Sony       7\n",
       "7                                Canon       7\n",
       "34                          Mitsubishi       7\n",
       "21                               Honda       7\n",
       "14                                Dell       8\n",
       "22                                  HP       8\n",
       "11                               Cisco       8\n",
       "24                               Intel       8\n",
       "33                           Microsoft       8\n",
       "50  Taiwan Semiconductor Manufacturing       9\n",
       "23                                 IBM       9\n",
       "25                   Johnson & Johnson       9\n",
       "54                            Walgreen       9\n",
       "32                                  3M       9\n",
       "20                          Home Depot       9\n",
       "30                          MasterCard       9\n",
       "58                               Xerox       9\n",
       "56                            Wal-Mart      10\n",
       "41                       Philip Morris      10\n",
       "38                               Pepsi      10\n",
       "31                           McDonalds      10\n",
       "28                           Coca Cola      10\n",
       "40                      Procter Gamble      11\n",
       "9                    Colgate-Palmolive      11\n",
       "27                      Kimberly-Clark      11\n",
       "17                     Google/Alphabet      12\n",
       "47                            Symantec      12\n",
       "2                               Amazon      13\n",
       "59                               Yahoo      13"
      ],
      "text/html": "<div>\n<style scoped>\n    .dataframe tbody tr th:only-of-type {\n        vertical-align: middle;\n    }\n\n    .dataframe tbody tr th {\n        vertical-align: top;\n    }\n\n    .dataframe thead th {\n        text-align: right;\n    }\n</style>\n<table border=\"1\" class=\"dataframe\">\n  <thead>\n    <tr style=\"text-align: right;\">\n      <th></th>\n      <th>0</th>\n      <th>labels</th>\n    </tr>\n  </thead>\n  <tbody>\n    <tr>\n      <th>1</th>\n      <td>AIG</td>\n      <td>0</td>\n    </tr>\n    <tr>\n      <th>44</th>\n      <td>Schlumberger</td>\n      <td>1</td>\n    </tr>\n    <tr>\n      <th>57</th>\n      <td>Exxon</td>\n      <td>1</td>\n    </tr>\n    <tr>\n      <th>12</th>\n      <td>Chevron</td>\n      <td>1</td>\n    </tr>\n    <tr>\n      <th>39</th>\n      <td>Pfizer</td>\n      <td>1</td>\n    </tr>\n    <tr>\n      <th>10</th>\n      <td>ConocoPhillips</td>\n      <td>1</td>\n    </tr>\n    <tr>\n      <th>35</th>\n      <td>Navistar</td>\n      <td>2</td>\n    </tr>\n    <tr>\n      <th>13</th>\n      <td>DuPont de Nemours</td>\n      <td>2</td>\n    </tr>\n    <tr>\n      <th>0</th>\n      <td>Apple</td>\n      <td>2</td>\n    </tr>\n    <tr>\n      <th>51</th>\n      <td>Texas instruments</td>\n      <td>2</td>\n    </tr>\n    <tr>\n      <th>8</th>\n      <td>Caterpillar</td>\n      <td>2</td>\n    </tr>\n    <tr>\n      <th>53</th>\n      <td>Valero Energy</td>\n      <td>3</td>\n    </tr>\n    <tr>\n      <th>18</th>\n      <td>Goldman Sachs</td>\n      <td>4</td>\n    </tr>\n    <tr>\n      <th>5</th>\n      <td>Bank of America</td>\n      <td>4</td>\n    </tr>\n    <tr>\n      <th>55</th>\n      <td>Wells Fargo</td>\n      <td>4</td>\n    </tr>\n    <tr>\n      <th>15</th>\n      <td>Ford</td>\n      <td>4</td>\n    </tr>\n    <tr>\n      <th>16</th>\n      <td>General Electrics</td>\n      <td>4</td>\n    </tr>\n    <tr>\n      <th>3</th>\n      <td>American express</td>\n      <td>4</td>\n    </tr>\n    <tr>\n      <th>26</th>\n      <td>JPMorgan Chase</td>\n      <td>4</td>\n    </tr>\n    <tr>\n      <th>36</th>\n      <td>Northrop Grumman</td>\n      <td>5</td>\n    </tr>\n    <tr>\n      <th>29</th>\n      <td>Lookheed Martin</td>\n      <td>5</td>\n    </tr>\n    <tr>\n      <th>4</th>\n      <td>Boeing</td>\n      <td>5</td>\n    </tr>\n    <tr>\n      <th>52</th>\n      <td>Unilever</td>\n      <td>6</td>\n    </tr>\n    <tr>\n      <th>49</th>\n      <td>Total</td>\n      <td>6</td>\n    </tr>\n    <tr>\n      <th>6</th>\n      <td>British American Tobacco</td>\n      <td>6</td>\n    </tr>\n    <tr>\n      <th>46</th>\n      <td>Sanofi-Aventis</td>\n      <td>6</td>\n    </tr>\n    <tr>\n      <th>19</th>\n      <td>GlaxoSmithKline</td>\n      <td>6</td>\n    </tr>\n    <tr>\n      <th>43</th>\n      <td>SAP</td>\n      <td>6</td>\n    </tr>\n    <tr>\n      <th>42</th>\n      <td>Royal Dutch Shell</td>\n      <td>6</td>\n    </tr>\n    <tr>\n      <th>37</th>\n      <td>Novartis</td>\n      <td>6</td>\n    </tr>\n    <tr>\n      <th>48</th>\n      <td>Toyota</td>\n      <td>7</td>\n    </tr>\n    <tr>\n      <th>45</th>\n      <td>Sony</td>\n      <td>7</td>\n    </tr>\n    <tr>\n      <th>7</th>\n      <td>Canon</td>\n      <td>7</td>\n    </tr>\n    <tr>\n      <th>34</th>\n      <td>Mitsubishi</td>\n      <td>7</td>\n    </tr>\n    <tr>\n      <th>21</th>\n      <td>Honda</td>\n      <td>7</td>\n    </tr>\n    <tr>\n      <th>14</th>\n      <td>Dell</td>\n      <td>8</td>\n    </tr>\n    <tr>\n      <th>22</th>\n      <td>HP</td>\n      <td>8</td>\n    </tr>\n    <tr>\n      <th>11</th>\n      <td>Cisco</td>\n      <td>8</td>\n    </tr>\n    <tr>\n      <th>24</th>\n      <td>Intel</td>\n      <td>8</td>\n    </tr>\n    <tr>\n      <th>33</th>\n      <td>Microsoft</td>\n      <td>8</td>\n    </tr>\n    <tr>\n      <th>50</th>\n      <td>Taiwan Semiconductor Manufacturing</td>\n      <td>9</td>\n    </tr>\n    <tr>\n      <th>23</th>\n      <td>IBM</td>\n      <td>9</td>\n    </tr>\n    <tr>\n      <th>25</th>\n      <td>Johnson &amp; Johnson</td>\n      <td>9</td>\n    </tr>\n    <tr>\n      <th>54</th>\n      <td>Walgreen</td>\n      <td>9</td>\n    </tr>\n    <tr>\n      <th>32</th>\n      <td>3M</td>\n      <td>9</td>\n    </tr>\n    <tr>\n      <th>20</th>\n      <td>Home Depot</td>\n      <td>9</td>\n    </tr>\n    <tr>\n      <th>30</th>\n      <td>MasterCard</td>\n      <td>9</td>\n    </tr>\n    <tr>\n      <th>58</th>\n      <td>Xerox</td>\n      <td>9</td>\n    </tr>\n    <tr>\n      <th>56</th>\n      <td>Wal-Mart</td>\n      <td>10</td>\n    </tr>\n    <tr>\n      <th>41</th>\n      <td>Philip Morris</td>\n      <td>10</td>\n    </tr>\n    <tr>\n      <th>38</th>\n      <td>Pepsi</td>\n      <td>10</td>\n    </tr>\n    <tr>\n      <th>31</th>\n      <td>McDonalds</td>\n      <td>10</td>\n    </tr>\n    <tr>\n      <th>28</th>\n      <td>Coca Cola</td>\n      <td>10</td>\n    </tr>\n    <tr>\n      <th>40</th>\n      <td>Procter Gamble</td>\n      <td>11</td>\n    </tr>\n    <tr>\n      <th>9</th>\n      <td>Colgate-Palmolive</td>\n      <td>11</td>\n    </tr>\n    <tr>\n      <th>27</th>\n      <td>Kimberly-Clark</td>\n      <td>11</td>\n    </tr>\n    <tr>\n      <th>17</th>\n      <td>Google/Alphabet</td>\n      <td>12</td>\n    </tr>\n    <tr>\n      <th>47</th>\n      <td>Symantec</td>\n      <td>12</td>\n    </tr>\n    <tr>\n      <th>2</th>\n      <td>Amazon</td>\n      <td>13</td>\n    </tr>\n    <tr>\n      <th>59</th>\n      <td>Yahoo</td>\n      <td>13</td>\n    </tr>\n  </tbody>\n</table>\n</div>"
     },
     "metadata": {},
     "execution_count": 16
    }
   ],
   "source": [
    "df.sort_values('labels')"
   ]
  },
  {
   "cell_type": "markdown",
   "metadata": {},
   "source": [
    "**Great job!** Using k-means, you've discovered which companies stock prices move together on the stock exchange."
   ]
  },
  {
   "cell_type": "code",
   "execution_count": 25,
   "metadata": {
    "collapsed": true
   },
   "outputs": [
    {
     "output_type": "execute_result",
     "data": {
      "text/plain": [
       "<Figure size 1800x720 with 0 Axes>"
      ]
     },
     "metadata": {},
     "execution_count": 25
    },
    {
     "output_type": "display_data",
     "data": {
      "text/plain": "<Figure size 1800x720 with 0 Axes>"
     },
     "metadata": {}
    }
   ],
   "source": [
    "import matplotlib.pyplot as plt\n",
    "plt.figure(figsize=(25,10))\n"
   ]
  },
  {
   "cell_type": "code",
   "execution_count": null,
   "metadata": {},
   "outputs": [],
   "source": []
  }
 ],
 "metadata": {
  "kernelspec": {
   "name": "python3",
   "display_name": "Python 3.9.6 64-bit"
  },
  "language_info": {
   "codemirror_mode": {
    "name": "ipython",
    "version": 3
   },
   "file_extension": ".py",
   "mimetype": "text/x-python",
   "name": "python",
   "nbconvert_exporter": "python",
   "pygments_lexer": "ipython3",
   "version": "3.9.6"
  },
  "interpreter": {
   "hash": "e7792b32be0245655abbd09574a2b2223a2788f4b2605c4cb174d77e47c13295"
  }
 },
 "nbformat": 4,
 "nbformat_minor": 2
}