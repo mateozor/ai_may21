{
 "cells": [
  {
   "cell_type": "markdown",
   "source": [
    "# KNN From Scratch\n",
    "\n",
    "In this workbook we will guide you through the steps to implement KNN from scratch. Once this is done you'll implement you solution in a class that is tested with the knn_class_tester notebook.\n",
    "\n",
    "1. Use the ```make_blobs``` function from SKLearn to make a dataset to test your KNN functions.\n",
    "2. Create helper functions. These will be useful when you go to implement your class.\n",
    "    - Squaring the difference of two vectors.\n",
    "    - Summing the square differences and returning the square root.\n",
    "    - Calculating the euclidian distances\n",
    "    - An evaluation function to evalaute predictions\n",
    "3. Create the KNN predcit function"
   ],
   "metadata": {}
  },
  {
   "cell_type": "code",
   "execution_count": 85,
   "source": [
    "#import libraries\r\n",
    "import numpy as np\r\n",
    "from collections import Counter\r\n",
    "import matplotlib.pyplot as plt\r\n",
    "from sklearn.datasets import make_blobs"
   ],
   "outputs": [],
   "metadata": {}
  },
  {
   "cell_type": "markdown",
   "source": [
    "### Step 1: Create a sample dataset\n",
    "1. Use ```make_blobs``` to create a sample set\n",
    "2. Start with 300 samples, 4 centres, 0.6 standard deviation, and random state 0\n",
    "3. Plot the samples"
   ],
   "metadata": {}
  },
  {
   "cell_type": "code",
   "execution_count": 86,
   "source": [
    "#make the dataset with make_blobs\r\n",
    "X,y = make_blobs(n_samples=300,centers=4,cluster_std=0.6,random_state=0)\r\n"
   ],
   "outputs": [],
   "metadata": {}
  },
  {
   "cell_type": "markdown",
   "source": [
    "# Step 2: Creating the KNN function\n",
    "Pseudocode below to help out! Note: **IT IS NOT ACTUAL CODE**"
   ],
   "metadata": {}
  },
  {
   "cell_type": "code",
   "execution_count": 87,
   "source": [
    "# define train test split\r\n",
    "from sklearn.model_selection import train_test_split\r\n",
    "#X_train\r\n",
    "#X_test\r\n",
    "#y_train\r\n",
    "#y_test\r\n",
    "X_train, X_test, Y_train, Y_test = train_test_split(X, y, test_size=0.2, random_state=42)\r\n",
    "\r\n"
   ],
   "outputs": [],
   "metadata": {}
  },
  {
   "cell_type": "code",
   "execution_count": 88,
   "source": [
    "def get_eucledian_distance(v1,v2):\r\n",
    "    distance = np.linalg.norm(v1-v2)\r\n",
    "    return distance\r\n",
    "    "
   ],
   "outputs": [],
   "metadata": {}
  },
  {
   "cell_type": "code",
   "execution_count": 89,
   "source": [
    "def get_length(X_train, X_test):\r\n",
    "    length = []\r\n",
    "    for n in range(len(X_test)):\r\n",
    "        length.append(get_eucledian_distance(X_train[n], X_test[n]))\r\n",
    "    return length\r\n",
    "\r\n",
    "\r\n"
   ],
   "outputs": [],
   "metadata": {}
  },
  {
   "cell_type": "code",
   "execution_count": 90,
   "source": [
    "def select_neighbours(dist_list, k):\r\n",
    "    sl = sorted(dist_list)\r\n",
    "    return sl[:k]    \r\n",
    "\r\n",
    "\r\n",
    "p = select_neighbours(b, 5)\r\n",
    "print(p)\r\n",
    "\r\n"
   ],
   "outputs": [
    {
     "output_type": "stream",
     "name": "stdout",
     "text": [
      "[0.35408636582733605, 0.5150136376213321, 0.6383828431558223, 0.741990975433726, 0.919231240355937]\n"
     ]
    }
   ],
   "metadata": {}
  },
  {
   "cell_type": "code",
   "execution_count": 91,
   "source": [
    "def predict(final_n, y_train):\r\n",
    "   \r\n",
    "    label=[]\r\n",
    "    for n in range(len(b)):\r\n",
    "        label.append(y_train[n])\r\n",
    "    a = np.array(label)\r\n",
    "    return np.bincount(a).argmax()\r\n",
    "\r\n",
    "predict(p, Y_train)"
   ],
   "outputs": [
    {
     "output_type": "execute_result",
     "data": {
      "text/plain": [
       "3"
      ]
     },
     "metadata": {},
     "execution_count": 91
    }
   ],
   "metadata": {}
  },
  {
   "cell_type": "code",
   "execution_count": 92,
   "source": [
    "def KNN(X_train, X_test, y_train, y_test, k):\r\n",
    "    # given a vector, [2.5, 4.56, 2]\r\n",
    "    # sample X_train : [2.5,4.56] = x1,x2\r\n",
    "    # search with same index: y_train = 2\r\n",
    "    \r\n",
    "    # rember to do it for all X_test vectors\r\n",
    "    # CASE: ONE SINGLE X_train vector:\r\n",
    "    dist_list = []\r\n",
    "    for vector in X_train:\r\n",
    "        # result = my get_distance function\r\n",
    "        dist_list.append(result, index)\r\n",
    "    final_n = select_neighbours(dist_list, k)\r\n",
    "    ypred = predict(final_n, y_train)\r\n",
    "    print(ypred)\r\n",
    "    #score... --> using sklearn.metrics\r\n",
    "    #or comparing 1 by 1 (ypred - ytest)\r\n",
    "    compare=[]\r\n",
    "    \r\n",
    "    for n in ypred:\r\n",
    "        compare.append(ypred[n]-y_test[n])\r\n",
    "    print(compare)\r\n",
    "\r\n",
    "    #plot... do it inside in a separate function or outside. \r\n",
    "    \r\n",
    "    KNN(X_train, X_test, Y_train, Y_test, k)\r\n",
    "    #print(a)"
   ],
   "outputs": [],
   "metadata": {}
  },
  {
   "cell_type": "code",
   "execution_count": null,
   "source": [],
   "outputs": [],
   "metadata": {}
  }
 ],
 "metadata": {
  "kernelspec": {
   "name": "python3",
   "display_name": "Python 3.9.6 64-bit"
  },
  "language_info": {
   "codemirror_mode": {
    "name": "ipython",
    "version": 3
   },
   "file_extension": ".py",
   "mimetype": "text/x-python",
   "name": "python",
   "nbconvert_exporter": "python",
   "pygments_lexer": "ipython3",
   "version": "3.9.6"
  },
  "varInspector": {
   "cols": {
    "lenName": 16,
    "lenType": 16,
    "lenVar": 40
   },
   "kernels_config": {
    "python": {
     "delete_cmd_postfix": "",
     "delete_cmd_prefix": "del ",
     "library": "var_list.py",
     "varRefreshCmd": "print(var_dic_list())"
    },
    "r": {
     "delete_cmd_postfix": ") ",
     "delete_cmd_prefix": "rm(",
     "library": "var_list.r",
     "varRefreshCmd": "cat(var_dic_list()) "
    }
   },
   "types_to_exclude": [
    "module",
    "function",
    "builtin_function_or_method",
    "instance",
    "_Feature"
   ],
   "window_display": false
  },
  "interpreter": {
   "hash": "e7792b32be0245655abbd09574a2b2223a2788f4b2605c4cb174d77e47c13295"
  }
 },
 "nbformat": 4,
 "nbformat_minor": 4
}